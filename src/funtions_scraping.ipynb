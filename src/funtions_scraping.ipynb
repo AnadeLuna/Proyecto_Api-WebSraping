{
 "cells": [
  {
   "cell_type": "markdown",
   "id": "listed-raise",
   "metadata": {},
   "source": [
    "### Funtion to introduce the URL."
   ]
  },
  {
   "cell_type": "code",
   "execution_count": 2,
   "id": "mediterranean-horse",
   "metadata": {},
   "outputs": [],
   "source": [
    "def introduce_url():\n",
    "    return input(\"Introduce the URL: \")"
   ]
  },
  {
   "cell_type": "markdown",
   "id": "final-flower",
   "metadata": {},
   "source": [
    "### Funtion to import the URL."
   ]
  },
  {
   "cell_type": "code",
   "execution_count": null,
   "id": "iraqi-chapter",
   "metadata": {},
   "outputs": [],
   "source": [
    "def scraping_web(url):\n",
    "    return requests.get(url)"
   ]
  },
  {
   "cell_type": "markdown",
   "id": "handmade-booth",
   "metadata": {},
   "source": [
    "### Funtion to import the data from URL with BeautifulSoup."
   ]
  },
  {
   "cell_type": "code",
   "execution_count": null,
   "id": "threatened-language",
   "metadata": {},
   "outputs": [],
   "source": [
    "def beautiful_soup(response):\n",
    "    return BeautifulSoup(response.content)"
   ]
  },
  {
   "cell_type": "markdown",
   "id": "danish-petersburg",
   "metadata": {},
   "source": [
    "### Funtion to extract the names. Only the elements whith index pairs."
   ]
  },
  {
   "cell_type": "code",
   "execution_count": null,
   "id": "other-jonathan",
   "metadata": {},
   "outputs": [],
   "source": [
    "def extract_names(names):\n",
    "    return [n.text for i,n in enumerate(names) if i % 2 != 0]"
   ]
  },
  {
   "cell_type": "markdown",
   "id": "ordinary-cannon",
   "metadata": {},
   "source": [
    "### Funtion to extract the numbers. Add to the list a index for compare to another list number for create a new list  with only some elements."
   ]
  },
  {
   "cell_type": "code",
   "execution_count": null,
   "id": "driving-central",
   "metadata": {},
   "outputs": [],
   "source": [
    "def extract_numbers(num_pob):\n",
    "    \n",
    "    list_num_pob = list(enumerate(num_pob))\n",
    "    list_poblation = []\n",
    "    \n",
    "    for n in list_num_pob:\n",
    "    \n",
    "        list_range = list(range(0,55,3))\n",
    "\n",
    "        if n[0] in list_range:\n",
    "\n",
    "            list_poblation.append(n[1])\n",
    "\n",
    "    return list_poblation"
   ]
  },
  {
   "cell_type": "markdown",
   "id": "vulnerable-technical",
   "metadata": {},
   "source": [
    "### Funtion to extract the text of the list_numbers."
   ]
  },
  {
   "cell_type": "code",
   "execution_count": null,
   "id": "standing-california",
   "metadata": {},
   "outputs": [],
   "source": [
    "def text_numbers(list_poblation):\n",
    "    return [n.text for n in list_poblation]"
   ]
  },
  {
   "cell_type": "markdown",
   "id": "precious-canon",
   "metadata": {},
   "source": [
    "### Funtion to string the list_numbers and the elements of the list."
   ]
  },
  {
   "cell_type": "code",
   "execution_count": null,
   "id": "bright-advocacy",
   "metadata": {},
   "outputs": [],
   "source": [
    "def string_numbers(new_list_poblation):\n",
    "    st_poblation = [str(n) for n in new_list_poblation]\n",
    "    return str(st_poblation)"
   ]
  },
  {
   "cell_type": "markdown",
   "id": "changed-shadow",
   "metadata": {},
   "source": [
    "### Funtion to regex the list_numbers. "
   ]
  },
  {
   "cell_type": "code",
   "execution_count": null,
   "id": "mature-royal",
   "metadata": {},
   "outputs": [],
   "source": [
    "def regex_numbers(pattern,list_str_poblation):\n",
    "    return re.findall(pattern,list_str_poblation)"
   ]
  },
  {
   "cell_type": "markdown",
   "id": "modified-things",
   "metadata": {},
   "source": [
    "### Funtion to int the elements of the list_numbers."
   ]
  },
  {
   "cell_type": "code",
   "execution_count": null,
   "id": "million-company",
   "metadata": {},
   "outputs": [],
   "source": [
    "def int_numbers(poblation):\n",
    "    return [int(p) for p in poblation]"
   ]
  }
 ],
 "metadata": {
  "kernelspec": {
   "display_name": "Python 3",
   "language": "python",
   "name": "python3"
  },
  "language_info": {
   "codemirror_mode": {
    "name": "ipython",
    "version": 3
   },
   "file_extension": ".py",
   "mimetype": "text/x-python",
   "name": "python",
   "nbconvert_exporter": "python",
   "pygments_lexer": "ipython3",
   "version": "3.9.1"
  }
 },
 "nbformat": 4,
 "nbformat_minor": 5
}
