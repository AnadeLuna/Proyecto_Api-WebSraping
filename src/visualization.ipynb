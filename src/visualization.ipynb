{
 "cells": [
  {
   "cell_type": "markdown",
   "id": "protected-ottawa",
   "metadata": {},
   "source": [
    "# Visualization"
   ]
  },
  {
   "cell_type": "markdown",
   "id": "cardiac-bottom",
   "metadata": {},
   "source": [
    "### 1º Import all the libraries."
   ]
  },
  {
   "cell_type": "code",
   "execution_count": 1,
   "id": "accomplished-there",
   "metadata": {},
   "outputs": [],
   "source": [
    "import matplotlib.pyplot as plt\n",
    "import seaborn as sns\n",
    "import pandas as pd\n",
    "import numpy as np"
   ]
  },
  {
   "cell_type": "markdown",
   "id": "charitable-reducing",
   "metadata": {},
   "source": [
    "### 2º Import the DataMerge."
   ]
  },
  {
   "cell_type": "code",
   "execution_count": 2,
   "id": "lucky-bathroom",
   "metadata": {},
   "outputs": [],
   "source": [
    "df = pd.read_csv(\"../data/data_merge.csv\")"
   ]
  },
  {
   "cell_type": "code",
   "execution_count": 3,
   "id": "fresh-entrepreneur",
   "metadata": {
    "scrolled": false
   },
   "outputs": [
    {
     "data": {
      "text/plain": [
       "Index(['Month', 'Comunidad Autónoma', 'Total Paro Registrado',\n",
       "       'Hombre edad < 25', 'Hombre edad 25-45', 'Hombre edad >=45',\n",
       "       'Mujer edad < 25', 'Mujer edad 25-45', 'Mujer edad >= 45',\n",
       "       'Paro Agricultura', 'Paro Industria', 'Paro Construcción',\n",
       "       'Paro Servicios', 'Paro Sin empleo Anterior', 'Poblation',\n",
       "       '% Total Paro Registrado', '% Hombre edad < 25', '% Hombre edad 25-45',\n",
       "       '% Hombre edad >=45', '% Mujer edad < 25', '% Mujer edad 25-45',\n",
       "       '% Mujer edad >= 45', '% Paro Agricultura', '% Paro Industria',\n",
       "       '% Paro Construcción', '% Paro Servicios',\n",
       "       '% Paro Sin empleo Anterior'],\n",
       "      dtype='object')"
      ]
     },
     "execution_count": 3,
     "metadata": {},
     "output_type": "execute_result"
    }
   ],
   "source": [
    "df.columns"
   ]
  },
  {
   "cell_type": "code",
   "execution_count": 4,
   "id": "tired-joshua",
   "metadata": {
    "scrolled": true
   },
   "outputs": [
    {
     "data": {
      "text/plain": [
       "array(['Apr', 'Aug', 'Jan', 'Feb', 'Jul', 'Jun', ' Mar', 'May', 'Nov',\n",
       "       'Oct', 'Sep'], dtype=object)"
      ]
     },
     "execution_count": 4,
     "metadata": {},
     "output_type": "execute_result"
    }
   ],
   "source": [
    "df[\"Month\"].unique()"
   ]
  },
  {
   "cell_type": "code",
   "execution_count": 5,
   "id": "written-donor",
   "metadata": {},
   "outputs": [],
   "source": [
    "df.index = df[\"Month\"]"
   ]
  },
  {
   "cell_type": "code",
   "execution_count": 88,
   "id": "center-crown",
   "metadata": {},
   "outputs": [
    {
     "data": {
      "text/plain": [
       "19"
      ]
     },
     "execution_count": 88,
     "metadata": {},
     "output_type": "execute_result"
    }
   ],
   "source": [
    "jul = df[df.index== 'Jul']\n",
    "len(jul)"
   ]
  },
  {
   "cell_type": "markdown",
   "id": "outdoor-queensland",
   "metadata": {},
   "source": [
    "### 3º The communities most affected during July in different sectors."
   ]
  },
  {
   "cell_type": "markdown",
   "id": "superior-uniform",
   "metadata": {},
   "source": [
    "### Servicios"
   ]
  },
  {
   "cell_type": "code",
   "execution_count": 67,
   "id": "impaired-destruction",
   "metadata": {},
   "outputs": [],
   "source": [
    "paro_serv = jul[['Comunidad Autónoma','% Paro Servicios']]\n",
    "paro_serv_round = np.round(paro_serv,3)\n",
    "#paro_serv_round"
   ]
  },
  {
   "cell_type": "code",
   "execution_count": 64,
   "id": "compliant-violin",
   "metadata": {},
   "outputs": [
    {
     "data": {
      "text/plain": [
       "<AxesSubplot:xlabel='% Paro Servicios', ylabel='Comunidad Autónoma'>"
      ]
     },
     "execution_count": 64,
     "metadata": {},
     "output_type": "execute_result"
    },
    {
     "data": {
      "image/png": "[encoded data removed]",
      "text/plain": [
       "<Figure size 1080x720 with 1 Axes>"
      ]
     },
     "metadata": {
      "needs_background": "light"
     },
     "output_type": "display_data"
    }
   ],
   "source": [
    "plt.figure(figsize=(15,10))\n",
    "sns.histplot(y=\"Comunidad Autónoma\",x=\"% Paro Servicios\",data=paro_serv_round)"
   ]
  },
  {
   "cell_type": "code",
   "execution_count": 65,
   "id": "moral-neighbor",
   "metadata": {},
   "outputs": [
    {
     "data": {
      "text/plain": [
       "0.113"
      ]
     },
     "execution_count": 65,
     "metadata": {},
     "output_type": "execute_result"
    }
   ],
   "source": [
    "paro_serv_round[\"% Paro Servicios\"].max()"
   ]
  },
  {
   "cell_type": "code",
   "execution_count": 66,
   "id": "broken-improvement",
   "metadata": {},
   "outputs": [
    {
     "data": {
      "text/plain": [
       "0.05742105263157895"
      ]
     },
     "execution_count": 66,
     "metadata": {},
     "output_type": "execute_result"
    }
   ],
   "source": [
    "paro_serv_round[\"% Paro Servicios\"].mean()"
   ]
  },
  {
   "cell_type": "markdown",
   "id": "rocky-yeast",
   "metadata": {},
   "source": [
    "### Construcción"
   ]
  },
  {
   "cell_type": "code",
   "execution_count": 82,
   "id": "sealed-nomination",
   "metadata": {},
   "outputs": [],
   "source": [
    "paro_const = jul[['Comunidad Autónoma','% Paro Construcción']]\n",
    "paro_const_round = np.round(paro_const,3)\n",
    "#paro_const_round"
   ]
  },
  {
   "cell_type": "code",
   "execution_count": 74,
   "id": "suitable-letters",
   "metadata": {},
   "outputs": [
    {
     "data": {
      "text/plain": [
       "<AxesSubplot:xlabel='% Paro Construcción', ylabel='Comunidad Autónoma'>"
      ]
     },
     "execution_count": 74,
     "metadata": {},
     "output_type": "execute_result"
    },
    {
     "data": {
      "image/png": "[encoded data removed]",
      "text/plain": [
       "<Figure size 1080x720 with 1 Axes>"
      ]
     },
     "metadata": {
      "needs_background": "light"
     },
     "output_type": "display_data"
    }
   ],
   "source": [
    "plt.figure(figsize=(15,10))\n",
    "sns.histplot(y=\"Comunidad Autónoma\",x=\"% Paro Construcción\",data=paro_const_round)"
   ]
  },
  {
   "cell_type": "code",
   "execution_count": 76,
   "id": "following-shipping",
   "metadata": {
    "scrolled": true
   },
   "outputs": [
    {
     "data": {
      "text/plain": [
       "0.011"
      ]
     },
     "execution_count": 76,
     "metadata": {},
     "output_type": "execute_result"
    }
   ],
   "source": [
    "paro_const_round[\"% Paro Construcción\"].max()"
   ]
  },
  {
   "cell_type": "code",
   "execution_count": 80,
   "id": "light-toolbox",
   "metadata": {
    "scrolled": true
   },
   "outputs": [
    {
     "data": {
      "text/plain": [
       "Comunidad Autónoma     Andalucía\n",
       "% Paro Construcción         0.01\n",
       "Name: Jul, dtype: object"
      ]
     },
     "execution_count": 80,
     "metadata": {},
     "output_type": "execute_result"
    }
   ],
   "source": [
    "paro_const_round.iloc[0]"
   ]
  },
  {
   "cell_type": "code",
   "execution_count": 81,
   "id": "about-whale",
   "metadata": {},
   "outputs": [
    {
     "data": {
      "text/plain": [
       "Comunidad Autónoma     Canarias\n",
       "% Paro Construcción       0.011\n",
       "Name: Jul, dtype: object"
      ]
     },
     "execution_count": 81,
     "metadata": {},
     "output_type": "execute_result"
    }
   ],
   "source": [
    "paro_const_round.iloc[4]"
   ]
  },
  {
   "cell_type": "code",
   "execution_count": 77,
   "id": "apparent-lingerie",
   "metadata": {},
   "outputs": [
    {
     "data": {
      "text/plain": [
       "0.005894736842105264"
      ]
     },
     "execution_count": 77,
     "metadata": {},
     "output_type": "execute_result"
    }
   ],
   "source": [
    "paro_const_round[\"% Paro Construcción\"].mean()"
   ]
  },
  {
   "cell_type": "markdown",
   "id": "unlimited-bacon",
   "metadata": {},
   "source": [
    "### Industria "
   ]
  },
  {
   "cell_type": "code",
   "execution_count": 92,
   "id": "tested-basics",
   "metadata": {},
   "outputs": [],
   "source": [
    "paro_indus = jul[['Comunidad Autónoma','% Paro Industria']]\n",
    "paro_indus_round = np.round(paro_indus,3)\n",
    "#paro_indus_round"
   ]
  },
  {
   "cell_type": "code",
   "execution_count": 86,
   "id": "confirmed-jamaica",
   "metadata": {},
   "outputs": [
    {
     "data": {
      "text/plain": [
       "<AxesSubplot:xlabel='% Paro Industria', ylabel='Comunidad Autónoma'>"
      ]
     },
     "execution_count": 86,
     "metadata": {},
     "output_type": "execute_result"
    },
    {
     "data": {
      "image/png": "[encoded data removed]",
      "text/plain": [
       "<Figure size 1080x720 with 1 Axes>"
      ]
     },
     "metadata": {
      "needs_background": "light"
     },
     "output_type": "display_data"
    }
   ],
   "source": [
    "plt.figure(figsize=(15,10))\n",
    "sns.histplot(y=\"Comunidad Autónoma\",x=\"% Paro Industria\",data=paro_indus_round)"
   ]
  },
  {
   "cell_type": "code",
   "execution_count": 85,
   "id": "pursuant-worker",
   "metadata": {},
   "outputs": [
    {
     "data": {
      "text/plain": [
       "0.011"
      ]
     },
     "execution_count": 85,
     "metadata": {},
     "output_type": "execute_result"
    }
   ],
   "source": [
    "paro_indus_round[\"% Paro Industria\"].max()"
   ]
  },
  {
   "cell_type": "code",
   "execution_count": 91,
   "id": "standing-being",
   "metadata": {},
   "outputs": [
    {
     "data": {
      "text/plain": [
       "Comunidad Autónoma    Comunidad Valenciana\n",
       "% Paro Industria                     0.011\n",
       "Name: Jul, dtype: object"
      ]
     },
     "execution_count": 91,
     "metadata": {},
     "output_type": "execute_result"
    }
   ],
   "source": [
    "paro_indus_round.iloc[10]"
   ]
  },
  {
   "cell_type": "code",
   "execution_count": 90,
   "id": "studied-jackson",
   "metadata": {},
   "outputs": [
    {
     "data": {
      "text/plain": [
       "Comunidad Autónoma    La Rioja\n",
       "% Paro Industria         0.011\n",
       "Name: Jul, dtype: object"
      ]
     },
     "execution_count": 90,
     "metadata": {},
     "output_type": "execute_result"
    }
   ],
   "source": [
    "paro_indus_round.iloc[18]"
   ]
  },
  {
   "cell_type": "code",
   "execution_count": 87,
   "id": "numerous-calvin",
   "metadata": {},
   "outputs": [
    {
     "data": {
      "text/plain": [
       "0.006526315789473685"
      ]
     },
     "execution_count": 87,
     "metadata": {},
     "output_type": "execute_result"
    }
   ],
   "source": [
    "paro_indus_round[\"% Paro Industria\"].mean()"
   ]
  },
  {
   "cell_type": "markdown",
   "id": "injured-shipping",
   "metadata": {},
   "source": [
    "### Agrícola"
   ]
  },
  {
   "cell_type": "code",
   "execution_count": 103,
   "id": "strange-milan",
   "metadata": {},
   "outputs": [],
   "source": [
    "paro_agri = jul[['Comunidad Autónoma','% Paro Agricultura']]\n",
    "paro_agri_round = np.round(paro_agri,3)\n",
    "#paro_agri_round"
   ]
  },
  {
   "cell_type": "code",
   "execution_count": 94,
   "id": "administrative-falls",
   "metadata": {
    "scrolled": false
   },
   "outputs": [
    {
     "data": {
      "text/plain": [
       "<AxesSubplot:xlabel='% Paro Agricultura', ylabel='Comunidad Autónoma'>"
      ]
     },
     "execution_count": 94,
     "metadata": {},
     "output_type": "execute_result"
    },
    {
     "data": {
      "image/png": "[encoded data removed]",
      "text/plain": [
       "<Figure size 1080x720 with 1 Axes>"
      ]
     },
     "metadata": {
      "needs_background": "light"
     },
     "output_type": "display_data"
    }
   ],
   "source": [
    "plt.figure(figsize=(15,10))\n",
    "sns.histplot(y=\"Comunidad Autónoma\",x=\"% Paro Agricultura\",data=paro_agri_round)"
   ]
  },
  {
   "cell_type": "code",
   "execution_count": 95,
   "id": "specialized-product",
   "metadata": {
    "scrolled": true
   },
   "outputs": [
    {
     "data": {
      "text/plain": [
       "0.012"
      ]
     },
     "execution_count": 95,
     "metadata": {},
     "output_type": "execute_result"
    }
   ],
   "source": [
    "paro_agri_round[\"% Paro Agricultura\"].max()"
   ]
  },
  {
   "cell_type": "code",
   "execution_count": 100,
   "id": "acting-department",
   "metadata": {},
   "outputs": [
    {
     "data": {
      "text/plain": [
       "Comunidad Autónoma    Andalucía\n",
       "% Paro Agricultura        0.012\n",
       "Name: Jul, dtype: object"
      ]
     },
     "execution_count": 100,
     "metadata": {},
     "output_type": "execute_result"
    }
   ],
   "source": [
    "paro_agri_round.iloc[0]"
   ]
  },
  {
   "cell_type": "code",
   "execution_count": 102,
   "id": "peaceful-screw",
   "metadata": {},
   "outputs": [
    {
     "data": {
      "text/plain": [
       "Comunidad Autónoma    Extremadura\n",
       "% Paro Agricultura          0.011\n",
       "Name: Jul, dtype: object"
      ]
     },
     "execution_count": 102,
     "metadata": {},
     "output_type": "execute_result"
    }
   ],
   "source": [
    "paro_agri_round.iloc[11]"
   ]
  },
  {
   "cell_type": "code",
   "execution_count": 97,
   "id": "congressional-supervisor",
   "metadata": {},
   "outputs": [
    {
     "data": {
      "text/plain": [
       "0.00368421052631579"
      ]
     },
     "execution_count": 97,
     "metadata": {},
     "output_type": "execute_result"
    }
   ],
   "source": [
    "paro_agri_round[\"% Paro Agricultura\"].mean()"
   ]
  }
 ],
 "metadata": {
  "kernelspec": {
   "display_name": "Python 3",
   "language": "python",
   "name": "python3"
  },
  "language_info": {
   "codemirror_mode": {
    "name": "ipython",
    "version": 3
   },
   "file_extension": ".py",
   "mimetype": "text/x-python",
   "name": "python",
   "nbconvert_exporter": "python",
   "pygments_lexer": "ipython3",
   "version": "3.9.1"
  }
 },
 "nbformat": 4,
 "nbformat_minor": 5
}
