{
 "cells": [
  {
   "cell_type": "markdown",
   "id": "absent-memorial",
   "metadata": {},
   "source": [
    "# SCRAPING"
   ]
  },
  {
   "cell_type": "markdown",
   "id": "leading-instrumentation",
   "metadata": {},
   "source": [
    "### 1º Import all the libraries."
   ]
  },
  {
   "cell_type": "code",
   "execution_count": 1,
   "id": "occupational-launch",
   "metadata": {},
   "outputs": [],
   "source": [
    "import requests \n",
    "from bs4 import BeautifulSoup\n",
    "import pandas as pd\n",
    "import re"
   ]
  },
  {
   "cell_type": "markdown",
   "id": "julian-bumper",
   "metadata": {},
   "source": [
    "### 2º Import the new information with URL."
   ]
  },
  {
   "cell_type": "code",
   "execution_count": 2,
   "id": "standard-logging",
   "metadata": {},
   "outputs": [],
   "source": [
    "# https://es.wikipedia.org/wiki/Anexo:Comunidades_y_ciudades_aut%C3%B3nomas_de_Espa%C3%B1a"
   ]
  },
  {
   "cell_type": "code",
   "execution_count": 3,
   "id": "touched-capture",
   "metadata": {
    "scrolled": true
   },
   "outputs": [
    {
     "name": "stdout",
     "output_type": "stream",
     "text": [
      "Introduce the URL: https://es.wikipedia.org/wiki/Anexo:Comunidades_y_ciudades_aut%C3%B3nomas_de_Espa%C3%B1a\n"
     ]
    }
   ],
   "source": [
    "url = input(\"Introduce the URL: \")"
   ]
  },
  {
   "cell_type": "code",
   "execution_count": 4,
   "id": "cleared-clarity",
   "metadata": {},
   "outputs": [],
   "source": [
    "response = requests.get(url)"
   ]
  },
  {
   "cell_type": "code",
   "execution_count": 5,
   "id": "gross-merchandise",
   "metadata": {},
   "outputs": [
    {
     "data": {
      "text/plain": [
       "200"
      ]
     },
     "execution_count": 5,
     "metadata": {},
     "output_type": "execute_result"
    }
   ],
   "source": [
    "response.status_code"
   ]
  },
  {
   "cell_type": "code",
   "execution_count": 6,
   "id": "optional-easter",
   "metadata": {},
   "outputs": [],
   "source": [
    "soup = BeautifulSoup(response.content)\n",
    "#soup"
   ]
  },
  {
   "cell_type": "markdown",
   "id": "developed-constraint",
   "metadata": {},
   "source": [
    "### 3º Extract the  `Comunidades Autónomas` and `Number of Poblation`."
   ]
  },
  {
   "cell_type": "code",
   "execution_count": 7,
   "id": "answering-training",
   "metadata": {},
   "outputs": [
    {
     "data": {
      "text/plain": [
       "<a href=\"/wiki/Comunidad_de_Madrid\" title=\"Comunidad de Madrid\">Comunidad de Madrid</a>"
      ]
     },
     "execution_count": 7,
     "metadata": {},
     "output_type": "execute_result"
    }
   ],
   "source": [
    "soup.select(\"td b a\")[5]"
   ]
  },
  {
   "cell_type": "code",
   "execution_count": 8,
   "id": "confidential-sheep",
   "metadata": {},
   "outputs": [
    {
     "data": {
      "text/plain": [
       "38"
      ]
     },
     "execution_count": 8,
     "metadata": {},
     "output_type": "execute_result"
    }
   ],
   "source": [
    "len(soup.select(\"td b a\"))"
   ]
  },
  {
   "cell_type": "code",
   "execution_count": 9,
   "id": "living-wages",
   "metadata": {},
   "outputs": [],
   "source": [
    "names = soup.select(\"td b a\")"
   ]
  },
  {
   "cell_type": "code",
   "execution_count": 10,
   "id": "respiratory-bhutan",
   "metadata": {},
   "outputs": [],
   "source": [
    "def extract_names(names):\n",
    "    return [n.text for i,n in enumerate(names) if i % 2 != 0]"
   ]
  },
  {
   "cell_type": "code",
   "execution_count": 11,
   "id": "artificial-mambo",
   "metadata": {},
   "outputs": [
    {
     "data": {
      "text/plain": [
       "['Andalucía',\n",
       " 'Cataluña',\n",
       " 'Comunidad de Madrid',\n",
       " 'Comunidad Valenciana',\n",
       " 'Galicia',\n",
       " 'Castilla y León',\n",
       " 'País Vasco',\n",
       " 'Canarias',\n",
       " 'Castilla-La Mancha',\n",
       " 'Región de Murcia',\n",
       " 'Aragón',\n",
       " 'Islas Baleares',\n",
       " 'Extremadura',\n",
       " 'Principado de Asturias',\n",
       " 'Navarra',\n",
       " 'Cantabria',\n",
       " 'La Rioja',\n",
       " 'Melilla',\n",
       " 'Ceuta']"
      ]
     },
     "execution_count": 11,
     "metadata": {},
     "output_type": "execute_result"
    }
   ],
   "source": [
    "lst_name = extract_names(names)\n",
    "lst_name"
   ]
  },
  {
   "cell_type": "code",
   "execution_count": 12,
   "id": "third-format",
   "metadata": {},
   "outputs": [],
   "source": [
    "num_pob = soup.find_all(\"span\", attrs = {\"style\":\"display:none\"})"
   ]
  },
  {
   "cell_type": "code",
   "execution_count": 13,
   "id": "cooked-notion",
   "metadata": {
    "scrolled": false
   },
   "outputs": [
    {
     "data": {
      "text/plain": [
       "60"
      ]
     },
     "execution_count": 13,
     "metadata": {},
     "output_type": "execute_result"
    }
   ],
   "source": [
    "len(num_pob)"
   ]
  },
  {
   "cell_type": "code",
   "execution_count": 14,
   "id": "prescribed-pottery",
   "metadata": {},
   "outputs": [],
   "source": [
    "def extract_numbers(num_pob):\n",
    "    \n",
    "    list_num_pob = list(enumerate(num_pob))\n",
    "    list_poblation = []\n",
    "    \n",
    "    for n in list_num_pob:\n",
    "    \n",
    "        list_range = list(range(0,55,3))\n",
    "\n",
    "        if n[0] in list_range:\n",
    "\n",
    "            list_poblation.append(n[1])\n",
    "\n",
    "    return list_poblation"
   ]
  },
  {
   "cell_type": "code",
   "execution_count": 15,
   "id": "interior-wrestling",
   "metadata": {},
   "outputs": [],
   "source": [
    "list_poblation = extract_numbers(num_pob)\n",
    "#list_poblation"
   ]
  },
  {
   "cell_type": "code",
   "execution_count": 16,
   "id": "continuing-winter",
   "metadata": {},
   "outputs": [],
   "source": [
    "def text_numbers(list_poblation):\n",
    "    return [n.text for n in list_poblation]"
   ]
  },
  {
   "cell_type": "code",
   "execution_count": 17,
   "id": "french-ownership",
   "metadata": {},
   "outputs": [],
   "source": [
    "new_list_poblation = text_numbers(list_poblation)\n",
    "#new_list_poblation"
   ]
  },
  {
   "cell_type": "code",
   "execution_count": 18,
   "id": "banned-rings",
   "metadata": {},
   "outputs": [],
   "source": [
    "def string_numbers(new_list_poblation):\n",
    "    st_poblation = [str(n) for n in new_list_poblation]\n",
    "    return str(st_poblation)"
   ]
  },
  {
   "cell_type": "code",
   "execution_count": 19,
   "id": "necessary-theology",
   "metadata": {},
   "outputs": [],
   "source": [
    "list_str_poblation = string_numbers(new_list_poblation)\n",
    "#list_str_poblation"
   ]
  },
  {
   "cell_type": "code",
   "execution_count": 20,
   "id": "chronic-theme",
   "metadata": {},
   "outputs": [],
   "source": [
    "def regex_numbers(pattern,list_str_poblation):\n",
    "    return re.findall(pattern,list_str_poblation)"
   ]
  },
  {
   "cell_type": "code",
   "execution_count": 21,
   "id": "finite-departure",
   "metadata": {},
   "outputs": [],
   "source": [
    "pattern = r'\\b\\d{6,8}'\n",
    "poblation = regex_numbers(pattern,list_str_poblation)\n",
    "#poblation"
   ]
  },
  {
   "cell_type": "code",
   "execution_count": 22,
   "id": "fleet-sapphire",
   "metadata": {},
   "outputs": [],
   "source": [
    "def int_numbers(poblation):\n",
    "    return [int(p) for p in poblation]"
   ]
  },
  {
   "cell_type": "code",
   "execution_count": 23,
   "id": "cardiac-error",
   "metadata": {},
   "outputs": [],
   "source": [
    "poblation_int = int_numbers(poblation)\n",
    "#poblation_int"
   ]
  },
  {
   "cell_type": "markdown",
   "id": "fresh-joyce",
   "metadata": {},
   "source": [
    "### 4º Create a Dictionary with the infromation. "
   ]
  },
  {
   "cell_type": "code",
   "execution_count": 24,
   "id": "talented-yesterday",
   "metadata": {},
   "outputs": [],
   "source": [
    "dictionary = dict(zip(lst_name,poblation_int))"
   ]
  },
  {
   "cell_type": "code",
   "execution_count": 61,
   "id": "colonial-liberal",
   "metadata": {},
   "outputs": [],
   "source": [
    "#dictionary"
   ]
  },
  {
   "cell_type": "markdown",
   "id": "earlier-branch",
   "metadata": {},
   "source": [
    "# MERGE THE SCRAPING AND DATASET."
   ]
  },
  {
   "cell_type": "code",
   "execution_count": 27,
   "id": "thousand-cause",
   "metadata": {},
   "outputs": [],
   "source": [
    "df = pd.read_csv(\"../data/data_clean.csv\")"
   ]
  },
  {
   "cell_type": "code",
   "execution_count": 59,
   "id": "physical-testament",
   "metadata": {
    "scrolled": true
   },
   "outputs": [],
   "source": [
    "#df"
   ]
  },
  {
   "cell_type": "code",
   "execution_count": 32,
   "id": "literary-conducting",
   "metadata": {},
   "outputs": [],
   "source": [
    "def pob(x):\n",
    "    for k,v in dictionary.items():\n",
    "        if x == k:\n",
    "            return v"
   ]
  },
  {
   "cell_type": "code",
   "execution_count": 34,
   "id": "proved-convert",
   "metadata": {},
   "outputs": [],
   "source": [
    "df[\"Poblation\"] = df[\"Comunidad Autónoma\"].apply(pob)"
   ]
  },
  {
   "cell_type": "code",
   "execution_count": 39,
   "id": "blank-major",
   "metadata": {},
   "outputs": [
    {
     "data": {
      "text/html": [
       "<div>\n",
       "<style scoped>\n",
       "    .dataframe tbody tr th:only-of-type {\n",
       "        vertical-align: middle;\n",
       "    }\n",
       "\n",
       "    .dataframe tbody tr th {\n",
       "        vertical-align: top;\n",
       "    }\n",
       "\n",
       "    .dataframe thead th {\n",
       "        text-align: right;\n",
       "    }\n",
       "</style>\n",
       "<table border=\"1\" class=\"dataframe\">\n",
       "  <thead>\n",
       "    <tr style=\"text-align: right;\">\n",
       "      <th></th>\n",
       "      <th>Month</th>\n",
       "      <th>Comunidad Autónoma</th>\n",
       "      <th>Total Paro Registrado</th>\n",
       "      <th>Hombre edad &lt; 25</th>\n",
       "      <th>Hombre edad 25-45</th>\n",
       "      <th>Hombre edad &gt;=45</th>\n",
       "      <th>Mujer edad &lt; 25</th>\n",
       "      <th>Mujer edad 25-45</th>\n",
       "      <th>Mujer edad &gt;= 45</th>\n",
       "      <th>Paro Agricultura</th>\n",
       "      <th>Paro Industria</th>\n",
       "      <th>Paro Construcción</th>\n",
       "      <th>Paro Servicios</th>\n",
       "      <th>Paro Sin empleo Anterior</th>\n",
       "      <th>Poblation</th>\n",
       "    </tr>\n",
       "  </thead>\n",
       "  <tbody>\n",
       "    <tr>\n",
       "      <th>0</th>\n",
       "      <td>Apr</td>\n",
       "      <td>Andalucía</td>\n",
       "      <td>978297</td>\n",
       "      <td>43593</td>\n",
       "      <td>190621</td>\n",
       "      <td>194878</td>\n",
       "      <td>42170</td>\n",
       "      <td>261692</td>\n",
       "      <td>245343</td>\n",
       "      <td>71597</td>\n",
       "      <td>61299</td>\n",
       "      <td>101074</td>\n",
       "      <td>657397</td>\n",
       "      <td>86930</td>\n",
       "      <td>8464411</td>\n",
       "    </tr>\n",
       "    <tr>\n",
       "      <th>1</th>\n",
       "      <td>Apr</td>\n",
       "      <td>Aragón</td>\n",
       "      <td>79214</td>\n",
       "      <td>4269</td>\n",
       "      <td>14028</td>\n",
       "      <td>15627</td>\n",
       "      <td>3851</td>\n",
       "      <td>19993</td>\n",
       "      <td>21446</td>\n",
       "      <td>3591</td>\n",
       "      <td>8990</td>\n",
       "      <td>5444</td>\n",
       "      <td>55588</td>\n",
       "      <td>5601</td>\n",
       "      <td>1329391</td>\n",
       "    </tr>\n",
       "    <tr>\n",
       "      <th>2</th>\n",
       "      <td>Apr</td>\n",
       "      <td>Principado de Asturias</td>\n",
       "      <td>83793</td>\n",
       "      <td>3047</td>\n",
       "      <td>16267</td>\n",
       "      <td>18868</td>\n",
       "      <td>2723</td>\n",
       "      <td>20084</td>\n",
       "      <td>22804</td>\n",
       "      <td>1433</td>\n",
       "      <td>7211</td>\n",
       "      <td>7657</td>\n",
       "      <td>60588</td>\n",
       "      <td>6904</td>\n",
       "      <td>1018784</td>\n",
       "    </tr>\n",
       "  </tbody>\n",
       "</table>\n",
       "</div>"
      ],
      "text/plain": [
       "  Month      Comunidad Autónoma  Total Paro Registrado  Hombre edad < 25  \\\n",
       "0   Apr               Andalucía                 978297             43593   \n",
       "1   Apr                  Aragón                  79214              4269   \n",
       "2   Apr  Principado de Asturias                  83793              3047   \n",
       "\n",
       "   Hombre edad 25-45  Hombre edad >=45  Mujer edad < 25  Mujer edad 25-45  \\\n",
       "0             190621            194878            42170            261692   \n",
       "1              14028             15627             3851             19993   \n",
       "2              16267             18868             2723             20084   \n",
       "\n",
       "   Mujer edad >= 45  Paro Agricultura  Paro Industria  Paro Construcción  \\\n",
       "0            245343             71597           61299             101074   \n",
       "1             21446              3591            8990               5444   \n",
       "2             22804              1433            7211               7657   \n",
       "\n",
       "   Paro Servicios  Paro Sin empleo Anterior  Poblation  \n",
       "0          657397                     86930    8464411  \n",
       "1           55588                      5601    1329391  \n",
       "2           60588                      6904    1018784  "
      ]
     },
     "execution_count": 39,
     "metadata": {},
     "output_type": "execute_result"
    }
   ],
   "source": [
    "df.head(3)"
   ]
  },
  {
   "cell_type": "code",
   "execution_count": 42,
   "id": "previous-karma",
   "metadata": {},
   "outputs": [],
   "source": [
    "df[\"% Total Paro Registrado\"] = df[\"Total Paro Registrado\"] / df[\"Poblation\"]"
   ]
  },
  {
   "cell_type": "code",
   "execution_count": 46,
   "id": "composed-rebel",
   "metadata": {},
   "outputs": [],
   "source": [
    "df[\"% Hombre edad < 25\"] = df[\"Hombre edad < 25\"] / df[\"Poblation\"]"
   ]
  },
  {
   "cell_type": "code",
   "execution_count": 48,
   "id": "committed-knowing",
   "metadata": {},
   "outputs": [],
   "source": [
    "df[\"% Hombre edad 25-45\"] = df[\"Hombre edad 25-45\"] / df[\"Poblation\"]"
   ]
  },
  {
   "cell_type": "code",
   "execution_count": 49,
   "id": "novel-yemen",
   "metadata": {},
   "outputs": [],
   "source": [
    "df[\"% Hombre edad >=45\"] = df[\"Hombre edad >=45\"] / df[\"Poblation\"]"
   ]
  },
  {
   "cell_type": "code",
   "execution_count": 50,
   "id": "invalid-stock",
   "metadata": {},
   "outputs": [],
   "source": [
    "df[\"% Mujer edad < 25\"] = df[\"Mujer edad < 25\"] / df[\"Poblation\"]"
   ]
  },
  {
   "cell_type": "code",
   "execution_count": 51,
   "id": "favorite-sauce",
   "metadata": {},
   "outputs": [],
   "source": [
    "df[\"% Mujer edad 25-45\"] = df[\"Mujer edad 25-45\"] / df[\"Poblation\"]"
   ]
  },
  {
   "cell_type": "code",
   "execution_count": 52,
   "id": "geographic-dallas",
   "metadata": {},
   "outputs": [],
   "source": [
    "df[\"% Mujer edad >= 45\"] = df[\"Mujer edad >= 45\"] / df[\"Poblation\"]"
   ]
  },
  {
   "cell_type": "code",
   "execution_count": 53,
   "id": "proved-search",
   "metadata": {},
   "outputs": [],
   "source": [
    "df[\"% Paro Agricultura\"] = df[\"Paro Agricultura\"] / df[\"Poblation\"]"
   ]
  },
  {
   "cell_type": "code",
   "execution_count": 54,
   "id": "convertible-conservation",
   "metadata": {},
   "outputs": [],
   "source": [
    "df[\"% Paro Industria\"] = df[\"Paro Industria\"] / df[\"Poblation\"]"
   ]
  },
  {
   "cell_type": "code",
   "execution_count": 55,
   "id": "infectious-appointment",
   "metadata": {},
   "outputs": [],
   "source": [
    "df[\"% Paro Construcción\"] = df[\"Paro Construcción\"] / df[\"Poblation\"]"
   ]
  },
  {
   "cell_type": "code",
   "execution_count": 56,
   "id": "described-criterion",
   "metadata": {},
   "outputs": [],
   "source": [
    "df[\"% Paro Servicios\"] = df[\"Paro Servicios\"] / df[\"Poblation\"]"
   ]
  },
  {
   "cell_type": "code",
   "execution_count": 57,
   "id": "inside-trash",
   "metadata": {},
   "outputs": [],
   "source": [
    "df[\"% Paro Sin empleo Anterior\"] = df[\"Paro Sin empleo Anterior\"] / df[\"Poblation\"]"
   ]
  },
  {
   "cell_type": "code",
   "execution_count": 58,
   "id": "vertical-minister",
   "metadata": {
    "scrolled": true
   },
   "outputs": [
    {
     "data": {
      "text/html": [
       "<div>\n",
       "<style scoped>\n",
       "    .dataframe tbody tr th:only-of-type {\n",
       "        vertical-align: middle;\n",
       "    }\n",
       "\n",
       "    .dataframe tbody tr th {\n",
       "        vertical-align: top;\n",
       "    }\n",
       "\n",
       "    .dataframe thead th {\n",
       "        text-align: right;\n",
       "    }\n",
       "</style>\n",
       "<table border=\"1\" class=\"dataframe\">\n",
       "  <thead>\n",
       "    <tr style=\"text-align: right;\">\n",
       "      <th></th>\n",
       "      <th>Month</th>\n",
       "      <th>Comunidad Autónoma</th>\n",
       "      <th>Total Paro Registrado</th>\n",
       "      <th>Hombre edad &lt; 25</th>\n",
       "      <th>Hombre edad 25-45</th>\n",
       "      <th>Hombre edad &gt;=45</th>\n",
       "      <th>Mujer edad &lt; 25</th>\n",
       "      <th>Mujer edad 25-45</th>\n",
       "      <th>Mujer edad &gt;= 45</th>\n",
       "      <th>Paro Agricultura</th>\n",
       "      <th>...</th>\n",
       "      <th>% Hombre edad 25-45</th>\n",
       "      <th>% Hombre edad &gt;=45</th>\n",
       "      <th>% Mujer edad &lt; 25</th>\n",
       "      <th>% Mujer edad 25-45</th>\n",
       "      <th>% Mujer edad &gt;= 45</th>\n",
       "      <th>% Paro Agricultura</th>\n",
       "      <th>% Paro Industria</th>\n",
       "      <th>% Paro Construcción</th>\n",
       "      <th>% Paro Servicios</th>\n",
       "      <th>% Paro Sin empleo Anterior</th>\n",
       "    </tr>\n",
       "  </thead>\n",
       "  <tbody>\n",
       "    <tr>\n",
       "      <th>0</th>\n",
       "      <td>Apr</td>\n",
       "      <td>Andalucía</td>\n",
       "      <td>978297</td>\n",
       "      <td>43593</td>\n",
       "      <td>190621</td>\n",
       "      <td>194878</td>\n",
       "      <td>42170</td>\n",
       "      <td>261692</td>\n",
       "      <td>245343</td>\n",
       "      <td>71597</td>\n",
       "      <td>...</td>\n",
       "      <td>0.022520</td>\n",
       "      <td>0.023023</td>\n",
       "      <td>0.004982</td>\n",
       "      <td>0.030917</td>\n",
       "      <td>0.028985</td>\n",
       "      <td>0.008459</td>\n",
       "      <td>0.007242</td>\n",
       "      <td>0.011941</td>\n",
       "      <td>0.077666</td>\n",
       "      <td>0.010270</td>\n",
       "    </tr>\n",
       "    <tr>\n",
       "      <th>1</th>\n",
       "      <td>Apr</td>\n",
       "      <td>Aragón</td>\n",
       "      <td>79214</td>\n",
       "      <td>4269</td>\n",
       "      <td>14028</td>\n",
       "      <td>15627</td>\n",
       "      <td>3851</td>\n",
       "      <td>19993</td>\n",
       "      <td>21446</td>\n",
       "      <td>3591</td>\n",
       "      <td>...</td>\n",
       "      <td>0.010552</td>\n",
       "      <td>0.011755</td>\n",
       "      <td>0.002897</td>\n",
       "      <td>0.015039</td>\n",
       "      <td>0.016132</td>\n",
       "      <td>0.002701</td>\n",
       "      <td>0.006762</td>\n",
       "      <td>0.004095</td>\n",
       "      <td>0.041815</td>\n",
       "      <td>0.004213</td>\n",
       "    </tr>\n",
       "    <tr>\n",
       "      <th>2</th>\n",
       "      <td>Apr</td>\n",
       "      <td>Principado de Asturias</td>\n",
       "      <td>83793</td>\n",
       "      <td>3047</td>\n",
       "      <td>16267</td>\n",
       "      <td>18868</td>\n",
       "      <td>2723</td>\n",
       "      <td>20084</td>\n",
       "      <td>22804</td>\n",
       "      <td>1433</td>\n",
       "      <td>...</td>\n",
       "      <td>0.015967</td>\n",
       "      <td>0.018520</td>\n",
       "      <td>0.002673</td>\n",
       "      <td>0.019714</td>\n",
       "      <td>0.022384</td>\n",
       "      <td>0.001407</td>\n",
       "      <td>0.007078</td>\n",
       "      <td>0.007516</td>\n",
       "      <td>0.059471</td>\n",
       "      <td>0.006777</td>\n",
       "    </tr>\n",
       "  </tbody>\n",
       "</table>\n",
       "<p>3 rows × 27 columns</p>\n",
       "</div>"
      ],
      "text/plain": [
       "  Month      Comunidad Autónoma  Total Paro Registrado  Hombre edad < 25  \\\n",
       "0   Apr               Andalucía                 978297             43593   \n",
       "1   Apr                  Aragón                  79214              4269   \n",
       "2   Apr  Principado de Asturias                  83793              3047   \n",
       "\n",
       "   Hombre edad 25-45  Hombre edad >=45  Mujer edad < 25  Mujer edad 25-45  \\\n",
       "0             190621            194878            42170            261692   \n",
       "1              14028             15627             3851             19993   \n",
       "2              16267             18868             2723             20084   \n",
       "\n",
       "   Mujer edad >= 45  Paro Agricultura  ...  % Hombre edad 25-45  \\\n",
       "0            245343             71597  ...             0.022520   \n",
       "1             21446              3591  ...             0.010552   \n",
       "2             22804              1433  ...             0.015967   \n",
       "\n",
       "   % Hombre edad >=45  % Mujer edad < 25  % Mujer edad 25-45  \\\n",
       "0            0.023023           0.004982            0.030917   \n",
       "1            0.011755           0.002897            0.015039   \n",
       "2            0.018520           0.002673            0.019714   \n",
       "\n",
       "   % Mujer edad >= 45  % Paro Agricultura  % Paro Industria  \\\n",
       "0            0.028985            0.008459          0.007242   \n",
       "1            0.016132            0.002701          0.006762   \n",
       "2            0.022384            0.001407          0.007078   \n",
       "\n",
       "   % Paro Construcción  % Paro Servicios  % Paro Sin empleo Anterior  \n",
       "0             0.011941          0.077666                    0.010270  \n",
       "1             0.004095          0.041815                    0.004213  \n",
       "2             0.007516          0.059471                    0.006777  \n",
       "\n",
       "[3 rows x 27 columns]"
      ]
     },
     "execution_count": 58,
     "metadata": {},
     "output_type": "execute_result"
    }
   ],
   "source": [
    "df.head(3)"
   ]
  },
  {
   "cell_type": "code",
   "execution_count": 60,
   "id": "undefined-mississippi",
   "metadata": {},
   "outputs": [],
   "source": [
    "df.to_csv(\"data_merge.csv\",index=False)"
   ]
  }
 ],
 "metadata": {
  "kernelspec": {
   "display_name": "Python 3",
   "language": "python",
   "name": "python3"
  },
  "language_info": {
   "codemirror_mode": {
    "name": "ipython",
    "version": 3
   },
   "file_extension": ".py",
   "mimetype": "text/x-python",
   "name": "python",
   "nbconvert_exporter": "python",
   "pygments_lexer": "ipython3",
   "version": "3.9.1"
  }
 },
 "nbformat": 4,
 "nbformat_minor": 5
}
