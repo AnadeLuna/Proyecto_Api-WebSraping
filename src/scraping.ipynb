{
 "cells": [
  {
   "cell_type": "markdown",
   "id": "absent-memorial",
   "metadata": {},
   "source": [
    "# SCRAPING"
   ]
  },
  {
   "cell_type": "markdown",
   "id": "leading-instrumentation",
   "metadata": {},
   "source": [
    "### 1º Import all the libraries that i will need use."
   ]
  },
  {
   "cell_type": "code",
   "execution_count": 1,
   "id": "occupational-launch",
   "metadata": {},
   "outputs": [],
   "source": [
    "import requests \n",
    "from bs4 import BeautifulSoup\n",
    "import pandas as pd\n",
    "import re"
   ]
  },
  {
   "cell_type": "markdown",
   "id": "julian-bumper",
   "metadata": {},
   "source": [
    "### 2º Import the new information."
   ]
  },
  {
   "cell_type": "code",
   "execution_count": null,
   "id": "standard-logging",
   "metadata": {},
   "outputs": [],
   "source": [
    "#from funtions_scraping import scraping_web"
   ]
  },
  {
   "cell_type": "code",
   "execution_count": 84,
   "id": "touched-capture",
   "metadata": {
    "scrolled": true
   },
   "outputs": [],
   "source": [
    "def introduce_url():\n",
    "    return input(\"Introduce the URL: \")"
   ]
  },
  {
   "cell_type": "code",
   "execution_count": 85,
   "id": "practical-rebecca",
   "metadata": {},
   "outputs": [
    {
     "name": "stdout",
     "output_type": "stream",
     "text": [
      "Introduce the URL: https://es.wikipedia.org/wiki/Anexo:Comunidades_y_ciudades_aut%C3%B3nomas_de_Espa%C3%B1a\n"
     ]
    }
   ],
   "source": [
    "url = introduce_url()"
   ]
  },
  {
   "cell_type": "code",
   "execution_count": 3,
   "id": "distributed-disclaimer",
   "metadata": {},
   "outputs": [],
   "source": [
    "#from funtions_scraping import scraping_web"
   ]
  },
  {
   "cell_type": "code",
   "execution_count": 4,
   "id": "dying-expert",
   "metadata": {},
   "outputs": [],
   "source": [
    "def scraping_web(url):\n",
    "    return requests.get(url)"
   ]
  },
  {
   "cell_type": "code",
   "execution_count": 5,
   "id": "cleared-clarity",
   "metadata": {},
   "outputs": [],
   "source": [
    "response = scraping_web(url)"
   ]
  },
  {
   "cell_type": "code",
   "execution_count": 6,
   "id": "gross-merchandise",
   "metadata": {},
   "outputs": [
    {
     "data": {
      "text/plain": [
       "200"
      ]
     },
     "execution_count": 6,
     "metadata": {},
     "output_type": "execute_result"
    }
   ],
   "source": [
    "response.status_code"
   ]
  },
  {
   "cell_type": "code",
   "execution_count": 7,
   "id": "center-novelty",
   "metadata": {},
   "outputs": [],
   "source": [
    "def beautiful_soup(response):\n",
    "    return BeautifulSoup(response.content)"
   ]
  },
  {
   "cell_type": "code",
   "execution_count": 8,
   "id": "optional-easter",
   "metadata": {},
   "outputs": [],
   "source": [
    "soup = beautiful_soup(response)"
   ]
  },
  {
   "cell_type": "markdown",
   "id": "developed-constraint",
   "metadata": {},
   "source": [
    "### 3º Extract the  `Comunidades Autónomas` and `Number of Poblation`."
   ]
  },
  {
   "cell_type": "code",
   "execution_count": 9,
   "id": "answering-training",
   "metadata": {},
   "outputs": [
    {
     "data": {
      "text/plain": [
       "<a href=\"/wiki/Comunidad_de_Madrid\" title=\"Comunidad de Madrid\">Comunidad de Madrid</a>"
      ]
     },
     "execution_count": 9,
     "metadata": {},
     "output_type": "execute_result"
    }
   ],
   "source": [
    "soup.select(\"td b a\")[5]"
   ]
  },
  {
   "cell_type": "code",
   "execution_count": 10,
   "id": "confidential-sheep",
   "metadata": {},
   "outputs": [
    {
     "data": {
      "text/plain": [
       "38"
      ]
     },
     "execution_count": 10,
     "metadata": {},
     "output_type": "execute_result"
    }
   ],
   "source": [
    "len(soup.select(\"td b a\"))"
   ]
  },
  {
   "cell_type": "code",
   "execution_count": 11,
   "id": "living-wages",
   "metadata": {},
   "outputs": [],
   "source": [
    "names = soup.select(\"td b a\")"
   ]
  },
  {
   "cell_type": "code",
   "execution_count": 12,
   "id": "respiratory-bhutan",
   "metadata": {},
   "outputs": [],
   "source": [
    "def extract_names(names):\n",
    "    return [n.text for i,n in enumerate(names) if i % 2 != 0]"
   ]
  },
  {
   "cell_type": "code",
   "execution_count": 13,
   "id": "artificial-mambo",
   "metadata": {},
   "outputs": [
    {
     "data": {
      "text/plain": [
       "['Andalucía',\n",
       " 'Cataluña',\n",
       " 'Comunidad de Madrid',\n",
       " 'Comunidad Valenciana',\n",
       " 'Galicia',\n",
       " 'Castilla y León',\n",
       " 'País Vasco',\n",
       " 'Canarias',\n",
       " 'Castilla-La Mancha',\n",
       " 'Región de Murcia',\n",
       " 'Aragón',\n",
       " 'Islas Baleares',\n",
       " 'Extremadura',\n",
       " 'Principado de Asturias',\n",
       " 'Navarra',\n",
       " 'Cantabria',\n",
       " 'La Rioja',\n",
       " 'Melilla',\n",
       " 'Ceuta']"
      ]
     },
     "execution_count": 13,
     "metadata": {},
     "output_type": "execute_result"
    }
   ],
   "source": [
    "lst_name = extract_names(names)\n",
    "lst_name"
   ]
  },
  {
   "cell_type": "code",
   "execution_count": 14,
   "id": "third-format",
   "metadata": {},
   "outputs": [],
   "source": [
    "num_pob = soup.find_all(\"span\", attrs = {\"style\":\"display:none\"})"
   ]
  },
  {
   "cell_type": "code",
   "execution_count": 15,
   "id": "cooked-notion",
   "metadata": {
    "scrolled": false
   },
   "outputs": [
    {
     "data": {
      "text/plain": [
       "60"
      ]
     },
     "execution_count": 15,
     "metadata": {},
     "output_type": "execute_result"
    }
   ],
   "source": [
    "len(num_pob)"
   ]
  },
  {
   "cell_type": "code",
   "execution_count": 59,
   "id": "prescribed-pottery",
   "metadata": {},
   "outputs": [],
   "source": [
    "def extract_numbers(num_pob):\n",
    "    \n",
    "    list_num_pob = list(enumerate(num_pob))\n",
    "    list_poblation = []\n",
    "    \n",
    "    for n in list_num_pob:\n",
    "    \n",
    "        list_range = list(range(0,55,3))\n",
    "\n",
    "        if n[0] in list_range:\n",
    "\n",
    "            list_poblation.append(n[1])\n",
    "\n",
    "    return list_poblation"
   ]
  },
  {
   "cell_type": "code",
   "execution_count": 63,
   "id": "interior-wrestling",
   "metadata": {},
   "outputs": [],
   "source": [
    "list_poblation = extract_numbers(num_pob)\n",
    "#list_poblation"
   ]
  },
  {
   "cell_type": "code",
   "execution_count": 64,
   "id": "continuing-winter",
   "metadata": {},
   "outputs": [],
   "source": [
    "def text_numbers(list_poblation):\n",
    "    return [n.text for n in list_poblation]"
   ]
  },
  {
   "cell_type": "code",
   "execution_count": 67,
   "id": "french-ownership",
   "metadata": {},
   "outputs": [],
   "source": [
    "new_list_poblation = text_numbers(list_poblation)\n",
    "#new_list_poblation"
   ]
  },
  {
   "cell_type": "code",
   "execution_count": 68,
   "id": "banned-rings",
   "metadata": {},
   "outputs": [],
   "source": [
    "def string_numbers(new_list_poblation):\n",
    "    st_poblation = [str(n) for n in new_list_poblation]\n",
    "    return str(st_poblation)"
   ]
  },
  {
   "cell_type": "code",
   "execution_count": 71,
   "id": "necessary-theology",
   "metadata": {},
   "outputs": [],
   "source": [
    "list_str_poblation = string_numbers(new_list_poblation)\n",
    "#list_str_poblation"
   ]
  },
  {
   "cell_type": "code",
   "execution_count": 72,
   "id": "chronic-theme",
   "metadata": {},
   "outputs": [],
   "source": [
    "def regex_numbers(pattern,list_str_poblation):\n",
    "    return re.findall(pattern,list_str_poblation)"
   ]
  },
  {
   "cell_type": "code",
   "execution_count": 76,
   "id": "finite-departure",
   "metadata": {},
   "outputs": [
    {
     "data": {
      "text/plain": [
       "['08464411', '07780479', '06779888']"
      ]
     },
     "execution_count": 76,
     "metadata": {},
     "output_type": "execute_result"
    }
   ],
   "source": [
    "pattern = r'\\b\\d{6,8}'\n",
    "poblation = regex_numbers(pattern,list_str_poblation)\n",
    "#poblation"
   ]
  },
  {
   "cell_type": "code",
   "execution_count": 77,
   "id": "fleet-sapphire",
   "metadata": {},
   "outputs": [],
   "source": [
    "def int_numbers(poblation):\n",
    "    return [int(p) for p in poblation]"
   ]
  },
  {
   "cell_type": "code",
   "execution_count": 80,
   "id": "cardiac-error",
   "metadata": {},
   "outputs": [],
   "source": [
    "poblation_int = int_numbers(poblation)\n",
    "#poblation_int"
   ]
  },
  {
   "cell_type": "markdown",
   "id": "fresh-joyce",
   "metadata": {},
   "source": [
    "### 4º Create a DataFrame. "
   ]
  },
  {
   "cell_type": "code",
   "execution_count": 51,
   "id": "governmental-chase",
   "metadata": {},
   "outputs": [
    {
     "data": {
      "text/plain": [
       "[1, 2, 3, 4, 5, 6, 7, 8, 9, 10, 11, 12, 13, 14, 15, 16, 17, 18, 19]"
      ]
     },
     "execution_count": 51,
     "metadata": {},
     "output_type": "execute_result"
    }
   ],
   "source": [
    "#Preguntar cómo meter el índice o si no es necesarío para la visualización en comparación con DATASET.\n",
    "index = list(range(1,20))\n",
    "index"
   ]
  },
  {
   "cell_type": "code",
   "execution_count": 56,
   "id": "chronic-complexity",
   "metadata": {},
   "outputs": [],
   "source": [
    "df = pd.DataFrame(poblation_int,lst_name)"
   ]
  },
  {
   "cell_type": "code",
   "execution_count": 81,
   "id": "selective-popularity",
   "metadata": {},
   "outputs": [
    {
     "data": {
      "text/html": [
       "<div>\n",
       "<style scoped>\n",
       "    .dataframe tbody tr th:only-of-type {\n",
       "        vertical-align: middle;\n",
       "    }\n",
       "\n",
       "    .dataframe tbody tr th {\n",
       "        vertical-align: top;\n",
       "    }\n",
       "\n",
       "    .dataframe thead th {\n",
       "        text-align: right;\n",
       "    }\n",
       "</style>\n",
       "<table border=\"1\" class=\"dataframe\">\n",
       "  <thead>\n",
       "    <tr style=\"text-align: right;\">\n",
       "      <th></th>\n",
       "      <th>0</th>\n",
       "    </tr>\n",
       "  </thead>\n",
       "  <tbody>\n",
       "    <tr>\n",
       "      <th>Andalucía</th>\n",
       "      <td>8464411</td>\n",
       "    </tr>\n",
       "    <tr>\n",
       "      <th>Cataluña</th>\n",
       "      <td>7780479</td>\n",
       "    </tr>\n",
       "    <tr>\n",
       "      <th>Comunidad de Madrid</th>\n",
       "      <td>6779888</td>\n",
       "    </tr>\n",
       "    <tr>\n",
       "      <th>Comunidad Valenciana</th>\n",
       "      <td>5057353</td>\n",
       "    </tr>\n",
       "    <tr>\n",
       "      <th>Galicia</th>\n",
       "      <td>2701819</td>\n",
       "    </tr>\n",
       "    <tr>\n",
       "      <th>Castilla y León</th>\n",
       "      <td>2394918</td>\n",
       "    </tr>\n",
       "    <tr>\n",
       "      <th>País Vasco</th>\n",
       "      <td>2220504</td>\n",
       "    </tr>\n",
       "    <tr>\n",
       "      <th>Canarias</th>\n",
       "      <td>2175952</td>\n",
       "    </tr>\n",
       "    <tr>\n",
       "      <th>Castilla-La Mancha</th>\n",
       "      <td>2045221</td>\n",
       "    </tr>\n",
       "    <tr>\n",
       "      <th>Región de Murcia</th>\n",
       "      <td>1511251</td>\n",
       "    </tr>\n",
       "    <tr>\n",
       "      <th>Aragón</th>\n",
       "      <td>1329391</td>\n",
       "    </tr>\n",
       "    <tr>\n",
       "      <th>Islas Baleares</th>\n",
       "      <td>1171543</td>\n",
       "    </tr>\n",
       "    <tr>\n",
       "      <th>Extremadura</th>\n",
       "      <td>1063987</td>\n",
       "    </tr>\n",
       "    <tr>\n",
       "      <th>Principado de Asturias</th>\n",
       "      <td>1018784</td>\n",
       "    </tr>\n",
       "    <tr>\n",
       "      <th>Navarra</th>\n",
       "      <td>661197</td>\n",
       "    </tr>\n",
       "    <tr>\n",
       "      <th>Cantabria</th>\n",
       "      <td>582905</td>\n",
       "    </tr>\n",
       "    <tr>\n",
       "      <th>La Rioja</th>\n",
       "      <td>319914</td>\n",
       "    </tr>\n",
       "    <tr>\n",
       "      <th>Melilla</th>\n",
       "      <td>87076</td>\n",
       "    </tr>\n",
       "    <tr>\n",
       "      <th>Ceuta</th>\n",
       "      <td>84202</td>\n",
       "    </tr>\n",
       "  </tbody>\n",
       "</table>\n",
       "</div>"
      ],
      "text/plain": [
       "                              0\n",
       "Andalucía               8464411\n",
       "Cataluña                7780479\n",
       "Comunidad de Madrid     6779888\n",
       "Comunidad Valenciana    5057353\n",
       "Galicia                 2701819\n",
       "Castilla y León         2394918\n",
       "País Vasco              2220504\n",
       "Canarias                2175952\n",
       "Castilla-La Mancha      2045221\n",
       "Región de Murcia        1511251\n",
       "Aragón                  1329391\n",
       "Islas Baleares          1171543\n",
       "Extremadura             1063987\n",
       "Principado de Asturias  1018784\n",
       "Navarra                  661197\n",
       "Cantabria                582905\n",
       "La Rioja                 319914\n",
       "Melilla                   87076\n",
       "Ceuta                     84202"
      ]
     },
     "execution_count": 81,
     "metadata": {},
     "output_type": "execute_result"
    }
   ],
   "source": [
    "df"
   ]
  }
 ],
 "metadata": {
  "kernelspec": {
   "display_name": "Python 3",
   "language": "python",
   "name": "python3"
  },
  "language_info": {
   "codemirror_mode": {
    "name": "ipython",
    "version": 3
   },
   "file_extension": ".py",
   "mimetype": "text/x-python",
   "name": "python",
   "nbconvert_exporter": "python",
   "pygments_lexer": "ipython3",
   "version": "3.9.1"
  }
 },
 "nbformat": 4,
 "nbformat_minor": 5
}
