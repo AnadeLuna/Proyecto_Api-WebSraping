{
 "cells": [
  {
   "cell_type": "markdown",
   "id": "absent-memorial",
   "metadata": {},
   "source": [
    "# SCRAPING"
   ]
  },
  {
   "cell_type": "markdown",
   "id": "leading-instrumentation",
   "metadata": {},
   "source": [
    "### 1º Import all the libraries."
   ]
  },
  {
   "cell_type": "code",
   "execution_count": 1,
   "id": "occupational-launch",
   "metadata": {},
   "outputs": [],
   "source": [
    "import requests \n",
    "from bs4 import BeautifulSoup\n",
    "import pandas as pd\n",
    "import re"
   ]
  },
  {
   "cell_type": "markdown",
   "id": "julian-bumper",
   "metadata": {},
   "source": [
    "### 2º Import the new information with URL."
   ]
  },
  {
   "cell_type": "code",
   "execution_count": 2,
   "id": "standard-logging",
   "metadata": {},
   "outputs": [],
   "source": [
    "# https://es.wikipedia.org/wiki/Anexo:Comunidades_y_ciudades_aut%C3%B3nomas_de_Espa%C3%B1a"
   ]
  },
  {
   "cell_type": "code",
   "execution_count": 3,
   "id": "touched-capture",
   "metadata": {
    "scrolled": true
   },
   "outputs": [
    {
     "name": "stdout",
     "output_type": "stream",
     "text": [
      "Introduce the URL: https://es.wikipedia.org/wiki/Anexo:Comunidades_y_ciudades_aut%C3%B3nomas_de_Espa%C3%B1a\n"
     ]
    }
   ],
   "source": [
    "url = input(\"Introduce the URL: \")"
   ]
  },
  {
   "cell_type": "code",
   "execution_count": 4,
   "id": "cleared-clarity",
   "metadata": {},
   "outputs": [],
   "source": [
    "response = requests.get(url)"
   ]
  },
  {
   "cell_type": "code",
   "execution_count": 5,
   "id": "gross-merchandise",
   "metadata": {},
   "outputs": [
    {
     "data": {
      "text/plain": [
       "200"
      ]
     },
     "execution_count": 5,
     "metadata": {},
     "output_type": "execute_result"
    }
   ],
   "source": [
    "response.status_code"
   ]
  },
  {
   "cell_type": "code",
   "execution_count": 6,
   "id": "optional-easter",
   "metadata": {},
   "outputs": [],
   "source": [
    "soup = BeautifulSoup(response.content)\n",
    "#soup"
   ]
  },
  {
   "cell_type": "markdown",
   "id": "developed-constraint",
   "metadata": {},
   "source": [
    "### 3º Extract the  `Comunidades Autónomas` and `Number of Poblation`."
   ]
  },
  {
   "cell_type": "code",
   "execution_count": 7,
   "id": "answering-training",
   "metadata": {},
   "outputs": [
    {
     "data": {
      "text/plain": [
       "<a href=\"/wiki/Comunidad_de_Madrid\" title=\"Comunidad de Madrid\">Comunidad de Madrid</a>"
      ]
     },
     "execution_count": 7,
     "metadata": {},
     "output_type": "execute_result"
    }
   ],
   "source": [
    "soup.select(\"td b a\")[5]"
   ]
  },
  {
   "cell_type": "code",
   "execution_count": 8,
   "id": "confidential-sheep",
   "metadata": {},
   "outputs": [
    {
     "data": {
      "text/plain": [
       "38"
      ]
     },
     "execution_count": 8,
     "metadata": {},
     "output_type": "execute_result"
    }
   ],
   "source": [
    "len(soup.select(\"td b a\"))"
   ]
  },
  {
   "cell_type": "code",
   "execution_count": 9,
   "id": "living-wages",
   "metadata": {},
   "outputs": [],
   "source": [
    "names = soup.select(\"td b a\")"
   ]
  },
  {
   "cell_type": "code",
   "execution_count": 10,
   "id": "respiratory-bhutan",
   "metadata": {},
   "outputs": [],
   "source": [
    "def extract_names(names):\n",
    "    return [n.text for i,n in enumerate(names) if i % 2 != 0]"
   ]
  },
  {
   "cell_type": "code",
   "execution_count": 11,
   "id": "artificial-mambo",
   "metadata": {},
   "outputs": [
    {
     "data": {
      "text/plain": [
       "['Andalucía',\n",
       " 'Cataluña',\n",
       " 'Comunidad de Madrid',\n",
       " 'Comunidad Valenciana',\n",
       " 'Galicia',\n",
       " 'Castilla y León',\n",
       " 'País Vasco',\n",
       " 'Canarias',\n",
       " 'Castilla-La Mancha',\n",
       " 'Región de Murcia',\n",
       " 'Aragón',\n",
       " 'Islas Baleares',\n",
       " 'Extremadura',\n",
       " 'Principado de Asturias',\n",
       " 'Navarra',\n",
       " 'Cantabria',\n",
       " 'La Rioja',\n",
       " 'Melilla',\n",
       " 'Ceuta']"
      ]
     },
     "execution_count": 11,
     "metadata": {},
     "output_type": "execute_result"
    }
   ],
   "source": [
    "lst_name = extract_names(names)\n",
    "lst_name"
   ]
  },
  {
   "cell_type": "code",
   "execution_count": 12,
   "id": "third-format",
   "metadata": {},
   "outputs": [],
   "source": [
    "num_pob = soup.find_all(\"span\", attrs = {\"style\":\"display:none\"})"
   ]
  },
  {
   "cell_type": "code",
   "execution_count": 13,
   "id": "cooked-notion",
   "metadata": {
    "scrolled": false
   },
   "outputs": [
    {
     "data": {
      "text/plain": [
       "60"
      ]
     },
     "execution_count": 13,
     "metadata": {},
     "output_type": "execute_result"
    }
   ],
   "source": [
    "len(num_pob)"
   ]
  },
  {
   "cell_type": "code",
   "execution_count": 14,
   "id": "prescribed-pottery",
   "metadata": {},
   "outputs": [],
   "source": [
    "def extract_numbers(num_pob):\n",
    "    \n",
    "    list_num_pob = list(enumerate(num_pob))\n",
    "    list_poblation = []\n",
    "    \n",
    "    for n in list_num_pob:\n",
    "    \n",
    "        list_range = list(range(0,55,3))\n",
    "\n",
    "        if n[0] in list_range:\n",
    "\n",
    "            list_poblation.append(n[1])\n",
    "\n",
    "    return list_poblation"
   ]
  },
  {
   "cell_type": "code",
   "execution_count": 15,
   "id": "interior-wrestling",
   "metadata": {},
   "outputs": [],
   "source": [
    "list_poblation = extract_numbers(num_pob)\n",
    "#list_poblation"
   ]
  },
  {
   "cell_type": "code",
   "execution_count": 16,
   "id": "continuing-winter",
   "metadata": {},
   "outputs": [],
   "source": [
    "def text_numbers(list_poblation):\n",
    "    return [n.text for n in list_poblation]"
   ]
  },
  {
   "cell_type": "code",
   "execution_count": 17,
   "id": "french-ownership",
   "metadata": {},
   "outputs": [],
   "source": [
    "new_list_poblation = text_numbers(list_poblation)\n",
    "#new_list_poblation"
   ]
  },
  {
   "cell_type": "code",
   "execution_count": 18,
   "id": "banned-rings",
   "metadata": {},
   "outputs": [],
   "source": [
    "def string_numbers(new_list_poblation):\n",
    "    st_poblation = [str(n) for n in new_list_poblation]\n",
    "    return str(st_poblation)"
   ]
  },
  {
   "cell_type": "code",
   "execution_count": 19,
   "id": "necessary-theology",
   "metadata": {},
   "outputs": [],
   "source": [
    "list_str_poblation = string_numbers(new_list_poblation)\n",
    "#list_str_poblation"
   ]
  },
  {
   "cell_type": "code",
   "execution_count": 20,
   "id": "chronic-theme",
   "metadata": {},
   "outputs": [],
   "source": [
    "def regex_numbers(pattern,list_str_poblation):\n",
    "    return re.findall(pattern,list_str_poblation)"
   ]
  },
  {
   "cell_type": "code",
   "execution_count": 21,
   "id": "finite-departure",
   "metadata": {},
   "outputs": [],
   "source": [
    "pattern = r'\\b\\d{6,8}'\n",
    "poblation = regex_numbers(pattern,list_str_poblation)\n",
    "#poblation"
   ]
  },
  {
   "cell_type": "code",
   "execution_count": 22,
   "id": "fleet-sapphire",
   "metadata": {},
   "outputs": [],
   "source": [
    "def int_numbers(poblation):\n",
    "    return [int(p) for p in poblation]"
   ]
  },
  {
   "cell_type": "code",
   "execution_count": 23,
   "id": "cardiac-error",
   "metadata": {},
   "outputs": [],
   "source": [
    "poblation_int = int_numbers(poblation)\n",
    "#poblation_int"
   ]
  },
  {
   "cell_type": "markdown",
   "id": "fresh-joyce",
   "metadata": {},
   "source": [
    "### 4º Create a Dictionary with the infromation. "
   ]
  },
  {
   "cell_type": "code",
   "execution_count": 24,
   "id": "talented-yesterday",
   "metadata": {},
   "outputs": [],
   "source": [
    "dictionary = dict(zip(lst_name,poblation_int))"
   ]
  },
  {
   "cell_type": "code",
   "execution_count": 47,
   "id": "colonial-liberal",
   "metadata": {},
   "outputs": [],
   "source": [
    "#dictionary"
   ]
  },
  {
   "cell_type": "markdown",
   "id": "earlier-branch",
   "metadata": {},
   "source": [
    "# MERGE THE SCRAPING AND DATASET."
   ]
  },
  {
   "cell_type": "code",
   "execution_count": 26,
   "id": "thousand-cause",
   "metadata": {},
   "outputs": [],
   "source": [
    "df = pd.read_csv(\"../data/data_clean.csv\")"
   ]
  },
  {
   "cell_type": "code",
   "execution_count": 27,
   "id": "physical-testament",
   "metadata": {
    "scrolled": true
   },
   "outputs": [],
   "source": [
    "#df"
   ]
  },
  {
   "cell_type": "code",
   "execution_count": 28,
   "id": "literary-conducting",
   "metadata": {},
   "outputs": [],
   "source": [
    "def pob(x):\n",
    "    for k,v in dictionary.items():\n",
    "        if x == k:\n",
    "            return v"
   ]
  },
  {
   "cell_type": "code",
   "execution_count": 29,
   "id": "proved-convert",
   "metadata": {},
   "outputs": [],
   "source": [
    "df[\"Poblation\"] = df[\"Comunidad Autónoma\"].apply(pob)"
   ]
  },
  {
   "cell_type": "code",
   "execution_count": 46,
   "id": "blank-major",
   "metadata": {},
   "outputs": [],
   "source": [
    "#df"
   ]
  },
  {
   "cell_type": "code",
   "execution_count": 31,
   "id": "previous-karma",
   "metadata": {},
   "outputs": [],
   "source": [
    "df[\"% Total Paro Registrado\"] = df[\"Total Paro Registrado\"] / df[\"Poblation\"]"
   ]
  },
  {
   "cell_type": "code",
   "execution_count": 32,
   "id": "composed-rebel",
   "metadata": {},
   "outputs": [],
   "source": [
    "df[\"% Hombre edad < 25\"] = df[\"Hombre edad < 25\"] / df[\"Poblation\"]"
   ]
  },
  {
   "cell_type": "code",
   "execution_count": 33,
   "id": "committed-knowing",
   "metadata": {},
   "outputs": [],
   "source": [
    "df[\"% Hombre edad 25-45\"] = df[\"Hombre edad 25-45\"] / df[\"Poblation\"]"
   ]
  },
  {
   "cell_type": "code",
   "execution_count": 34,
   "id": "novel-yemen",
   "metadata": {},
   "outputs": [],
   "source": [
    "df[\"% Hombre edad >=45\"] = df[\"Hombre edad >=45\"] / df[\"Poblation\"]"
   ]
  },
  {
   "cell_type": "code",
   "execution_count": 35,
   "id": "invalid-stock",
   "metadata": {},
   "outputs": [],
   "source": [
    "df[\"% Mujer edad < 25\"] = df[\"Mujer edad < 25\"] / df[\"Poblation\"]"
   ]
  },
  {
   "cell_type": "code",
   "execution_count": 36,
   "id": "favorite-sauce",
   "metadata": {},
   "outputs": [],
   "source": [
    "df[\"% Mujer edad 25-45\"] = df[\"Mujer edad 25-45\"] / df[\"Poblation\"]"
   ]
  },
  {
   "cell_type": "code",
   "execution_count": 37,
   "id": "geographic-dallas",
   "metadata": {},
   "outputs": [],
   "source": [
    "df[\"% Mujer edad >= 45\"] = df[\"Mujer edad >= 45\"] / df[\"Poblation\"]"
   ]
  },
  {
   "cell_type": "code",
   "execution_count": 38,
   "id": "proved-search",
   "metadata": {},
   "outputs": [],
   "source": [
    "df[\"% Paro Agricultura\"] = df[\"Paro Agricultura\"] / df[\"Poblation\"]"
   ]
  },
  {
   "cell_type": "code",
   "execution_count": 39,
   "id": "convertible-conservation",
   "metadata": {},
   "outputs": [],
   "source": [
    "df[\"% Paro Industria\"] = df[\"Paro Industria\"] / df[\"Poblation\"]"
   ]
  },
  {
   "cell_type": "code",
   "execution_count": 40,
   "id": "infectious-appointment",
   "metadata": {},
   "outputs": [],
   "source": [
    "df[\"% Paro Construcción\"] = df[\"Paro Construcción\"] / df[\"Poblation\"]"
   ]
  },
  {
   "cell_type": "code",
   "execution_count": 41,
   "id": "described-criterion",
   "metadata": {},
   "outputs": [],
   "source": [
    "df[\"% Paro Servicios\"] = df[\"Paro Servicios\"] / df[\"Poblation\"]"
   ]
  },
  {
   "cell_type": "code",
   "execution_count": 42,
   "id": "inside-trash",
   "metadata": {},
   "outputs": [],
   "source": [
    "df[\"% Paro Sin empleo Anterior\"] = df[\"Paro Sin empleo Anterior\"] / df[\"Poblation\"]"
   ]
  },
  {
   "cell_type": "code",
   "execution_count": 45,
   "id": "undefined-mississippi",
   "metadata": {},
   "outputs": [],
   "source": [
    "df.to_csv(\"data_merge.csv\",index=False)"
   ]
  }
 ],
 "metadata": {
  "kernelspec": {
   "display_name": "Python 3",
   "language": "python",
   "name": "python3"
  },
  "language_info": {
   "codemirror_mode": {
    "name": "ipython",
    "version": 3
   },
   "file_extension": ".py",
   "mimetype": "text/x-python",
   "name": "python",
   "nbconvert_exporter": "python",
   "pygments_lexer": "ipython3",
   "version": "3.9.1"
  }
 },
 "nbformat": 4,
 "nbformat_minor": 5
}
