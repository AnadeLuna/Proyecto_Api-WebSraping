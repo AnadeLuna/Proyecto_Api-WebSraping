{
 "cells": [
  {
   "cell_type": "markdown",
   "id": "encouraging-anchor",
   "metadata": {},
   "source": [
    "## Funtion to introduce the path."
   ]
  },
  {
   "cell_type": "code",
   "execution_count": 4,
   "id": "crazy-diving",
   "metadata": {},
   "outputs": [],
   "source": [
    "def introduce_path():\n",
    "    return input(\"Introduce the path of the file : \")"
   ]
  },
  {
   "cell_type": "markdown",
   "id": "adverse-spell",
   "metadata": {},
   "source": [
    "## Funtion to import the CSV file."
   ]
  },
  {
   "cell_type": "code",
   "execution_count": 1,
   "id": "elder-accessory",
   "metadata": {},
   "outputs": [],
   "source": [
    "def import_csv(path):\n",
    "    return pd.read_csv(path,encoding = \"ISO-8859-1\")"
   ]
  },
  {
   "cell_type": "markdown",
   "id": "developed-porcelain",
   "metadata": {},
   "source": [
    "## Funtion to remove all the duplicate data."
   ]
  },
  {
   "cell_type": "code",
   "execution_count": 2,
   "id": "overhead-knight",
   "metadata": {},
   "outputs": [],
   "source": [
    "def remove_duplicates(data):\n",
    "    return data.drop_duplicates()"
   ]
  },
  {
   "cell_type": "markdown",
   "id": "fixed-water",
   "metadata": {},
   "source": [
    "## Funtion to remove some specific columns."
   ]
  },
  {
   "cell_type": "code",
   "execution_count": 3,
   "id": "three-consumption",
   "metadata": {},
   "outputs": [],
   "source": [
    "def remove_columns(data):\n",
    "    return data.drop(columns = [\"Codigo Provincia\",\"Provincia\",\"Codigo Municipio\",\" Municipio\"])"
   ]
  },
  {
   "cell_type": "markdown",
   "id": "aging-mathematics",
   "metadata": {},
   "source": [
    "## Funtion to group by `mes` and `Comunidad Autónoma`."
   ]
  },
  {
   "cell_type": "code",
   "execution_count": null,
   "id": "senior-authorization",
   "metadata": {},
   "outputs": [],
   "source": [
    "def groupby_columns(data):\n",
    "    return data.groupby(['mes','Comunidad Autónoma'])['total Paro Registrado', 'Paro hombre edad < 25',\n",
    "       'Paro hombre edad 25 -45 ', 'Paro hombre edad >=45',\n",
    "       'Paro mujer edad < 25', 'Paro mujer edad 25 -45 ',\n",
    "       'Paro mujer edad >=45', 'Paro Agricultura', 'Paro Industria',\n",
    "       'Paro Construcción', 'Paro Servicios', 'Paro Sin empleo Anterior'].sum()"
   ]
  },
  {
   "cell_type": "code",
   "execution_count": null,
   "id": "noble-mattress",
   "metadata": {},
   "outputs": [],
   "source": []
  },
  {
   "cell_type": "code",
   "execution_count": null,
   "id": "fitting-kansas",
   "metadata": {},
   "outputs": [],
   "source": []
  },
  {
   "cell_type": "code",
   "execution_count": null,
   "id": "eight-gnome",
   "metadata": {},
   "outputs": [],
   "source": []
  }
 ],
 "metadata": {
  "kernelspec": {
   "display_name": "Python 3",
   "language": "python",
   "name": "python3"
  },
  "language_info": {
   "codemirror_mode": {
    "name": "ipython",
    "version": 3
   },
   "file_extension": ".py",
   "mimetype": "text/x-python",
   "name": "python",
   "nbconvert_exporter": "python",
   "pygments_lexer": "ipython3",
   "version": "3.9.1"
  }
 },
 "nbformat": 4,
 "nbformat_minor": 5
}
