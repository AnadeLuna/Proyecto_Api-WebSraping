{
 "cells": [
  {
   "cell_type": "markdown",
   "id": "cubic-class",
   "metadata": {},
   "source": [
    "# Clean the DataSet."
   ]
  },
  {
   "cell_type": "markdown",
   "id": "liable-richardson",
   "metadata": {},
   "source": [
    "### 1º Import all the libraries that i will need use."
   ]
  },
  {
   "cell_type": "code",
   "execution_count": 1,
   "id": "isolated-gibson",
   "metadata": {},
   "outputs": [],
   "source": [
    "import numpy as np\n",
    "import pandas as pd"
   ]
  },
  {
   "cell_type": "markdown",
   "id": "inappropriate-prefix",
   "metadata": {},
   "source": [
    "### 2º Import the DataSet."
   ]
  },
  {
   "cell_type": "code",
   "execution_count": 2,
   "id": "strategic-holocaust",
   "metadata": {},
   "outputs": [],
   "source": [
    "#from funtions_cleaning import import_csv\n",
    "\n",
    "#path = \"../data/paro_2020.csv\"\n",
    "#import_csv(path)"
   ]
  },
  {
   "cell_type": "code",
   "execution_count": 3,
   "id": "emotional-clearing",
   "metadata": {},
   "outputs": [],
   "source": [
    "def introduce_path():\n",
    "    return input(\"Introduce the path of the file : \")"
   ]
  },
  {
   "cell_type": "code",
   "execution_count": 4,
   "id": "portuguese-tomato",
   "metadata": {},
   "outputs": [
    {
     "name": "stdout",
     "output_type": "stream",
     "text": [
      "Introduce the path of the file : ../data/paro_2020.csv\n"
     ]
    }
   ],
   "source": [
    "path = introduce_path()"
   ]
  },
  {
   "cell_type": "code",
   "execution_count": 5,
   "id": "dying-burton",
   "metadata": {},
   "outputs": [],
   "source": [
    "def import_csv(path):\n",
    "    return pd.read_csv(path,encoding = \"ISO-8859-1\")"
   ]
  },
  {
   "cell_type": "code",
   "execution_count": 6,
   "id": "furnished-bruce",
   "metadata": {},
   "outputs": [],
   "source": [
    "data = import_csv(path)"
   ]
  },
  {
   "cell_type": "markdown",
   "id": "current-virtue",
   "metadata": {},
   "source": [
    "### 3º Check the DataSet."
   ]
  },
  {
   "cell_type": "code",
   "execution_count": 7,
   "id": "round-gazette",
   "metadata": {},
   "outputs": [
    {
     "data": {
      "text/plain": [
       "(89446, 20)"
      ]
     },
     "execution_count": 7,
     "metadata": {},
     "output_type": "execute_result"
    }
   ],
   "source": [
    "data.shape"
   ]
  },
  {
   "cell_type": "code",
   "execution_count": 8,
   "id": "amateur-penny",
   "metadata": {
    "scrolled": true
   },
   "outputs": [
    {
     "data": {
      "text/plain": [
       "Index(['Código mes ', 'mes', 'Código de CA', 'Comunidad Autónoma',\n",
       "       'Codigo Provincia', 'Provincia', 'Codigo Municipio', ' Municipio',\n",
       "       'total Paro Registrado', 'Paro hombre edad < 25',\n",
       "       'Paro hombre edad 25 -45 ', 'Paro hombre edad >=45',\n",
       "       'Paro mujer edad < 25', 'Paro mujer edad 25 -45 ',\n",
       "       'Paro mujer edad >=45', 'Paro Agricultura', 'Paro Industria',\n",
       "       'Paro Construcción', 'Paro Servicios', 'Paro Sin empleo Anterior'],\n",
       "      dtype='object')"
      ]
     },
     "execution_count": 8,
     "metadata": {},
     "output_type": "execute_result"
    }
   ],
   "source": [
    "data.columns"
   ]
  },
  {
   "cell_type": "code",
   "execution_count": 9,
   "id": "democratic-fraud",
   "metadata": {},
   "outputs": [
    {
     "data": {
      "text/html": [
       "<div>\n",
       "<style scoped>\n",
       "    .dataframe tbody tr th:only-of-type {\n",
       "        vertical-align: middle;\n",
       "    }\n",
       "\n",
       "    .dataframe tbody tr th {\n",
       "        vertical-align: top;\n",
       "    }\n",
       "\n",
       "    .dataframe thead th {\n",
       "        text-align: right;\n",
       "    }\n",
       "</style>\n",
       "<table border=\"1\" class=\"dataframe\">\n",
       "  <thead>\n",
       "    <tr style=\"text-align: right;\">\n",
       "      <th></th>\n",
       "      <th>Código mes</th>\n",
       "      <th>mes</th>\n",
       "      <th>Código de CA</th>\n",
       "      <th>Comunidad Autónoma</th>\n",
       "      <th>Codigo Provincia</th>\n",
       "      <th>Provincia</th>\n",
       "      <th>Codigo Municipio</th>\n",
       "      <th>Municipio</th>\n",
       "      <th>total Paro Registrado</th>\n",
       "      <th>Paro hombre edad &lt; 25</th>\n",
       "      <th>Paro hombre edad 25 -45</th>\n",
       "      <th>Paro hombre edad &gt;=45</th>\n",
       "      <th>Paro mujer edad &lt; 25</th>\n",
       "      <th>Paro mujer edad 25 -45</th>\n",
       "      <th>Paro mujer edad &gt;=45</th>\n",
       "      <th>Paro Agricultura</th>\n",
       "      <th>Paro Industria</th>\n",
       "      <th>Paro Construcción</th>\n",
       "      <th>Paro Servicios</th>\n",
       "      <th>Paro Sin empleo Anterior</th>\n",
       "    </tr>\n",
       "  </thead>\n",
       "  <tbody>\n",
       "    <tr>\n",
       "      <th>0</th>\n",
       "      <td>202001</td>\n",
       "      <td>Enero de 2020</td>\n",
       "      <td>1</td>\n",
       "      <td>Andalucía</td>\n",
       "      <td>4</td>\n",
       "      <td>Almería</td>\n",
       "      <td>4001</td>\n",
       "      <td>Abla</td>\n",
       "      <td>84</td>\n",
       "      <td>6</td>\n",
       "      <td>11</td>\n",
       "      <td>27</td>\n",
       "      <td>4</td>\n",
       "      <td>25</td>\n",
       "      <td>11</td>\n",
       "      <td>13</td>\n",
       "      <td>3</td>\n",
       "      <td>4</td>\n",
       "      <td>55</td>\n",
       "      <td>9</td>\n",
       "    </tr>\n",
       "    <tr>\n",
       "      <th>1</th>\n",
       "      <td>202001</td>\n",
       "      <td>Enero de 2020</td>\n",
       "      <td>1</td>\n",
       "      <td>Andalucía</td>\n",
       "      <td>4</td>\n",
       "      <td>Almería</td>\n",
       "      <td>4002</td>\n",
       "      <td>Abrucena</td>\n",
       "      <td>76</td>\n",
       "      <td>5</td>\n",
       "      <td>10</td>\n",
       "      <td>19</td>\n",
       "      <td>8</td>\n",
       "      <td>17</td>\n",
       "      <td>17</td>\n",
       "      <td>7</td>\n",
       "      <td>4</td>\n",
       "      <td>13</td>\n",
       "      <td>44</td>\n",
       "      <td>8</td>\n",
       "    </tr>\n",
       "    <tr>\n",
       "      <th>2</th>\n",
       "      <td>202001</td>\n",
       "      <td>Enero de 2020</td>\n",
       "      <td>1</td>\n",
       "      <td>Andalucía</td>\n",
       "      <td>4</td>\n",
       "      <td>Almería</td>\n",
       "      <td>4003</td>\n",
       "      <td>Adra</td>\n",
       "      <td>1989</td>\n",
       "      <td>92</td>\n",
       "      <td>347</td>\n",
       "      <td>415</td>\n",
       "      <td>78</td>\n",
       "      <td>541</td>\n",
       "      <td>516</td>\n",
       "      <td>362</td>\n",
       "      <td>67</td>\n",
       "      <td>198</td>\n",
       "      <td>1178</td>\n",
       "      <td>184</td>\n",
       "    </tr>\n",
       "  </tbody>\n",
       "</table>\n",
       "</div>"
      ],
      "text/plain": [
       "   Código mes             mes  Código de CA Comunidad Autónoma  \\\n",
       "0       202001  Enero de 2020             1          Andalucía   \n",
       "1       202001  Enero de 2020             1          Andalucía   \n",
       "2       202001  Enero de 2020             1          Andalucía   \n",
       "\n",
       "   Codigo Provincia Provincia  Codigo Municipio  Municipio  \\\n",
       "0                 4   Almería              4001       Abla   \n",
       "1                 4   Almería              4002   Abrucena   \n",
       "2                 4   Almería              4003       Adra   \n",
       "\n",
       "   total Paro Registrado  Paro hombre edad < 25  Paro hombre edad 25 -45   \\\n",
       "0                     84                      6                        11   \n",
       "1                     76                      5                        10   \n",
       "2                   1989                     92                       347   \n",
       "\n",
       "   Paro hombre edad >=45  Paro mujer edad < 25  Paro mujer edad 25 -45   \\\n",
       "0                     27                     4                       25   \n",
       "1                     19                     8                       17   \n",
       "2                    415                    78                      541   \n",
       "\n",
       "   Paro mujer edad >=45  Paro Agricultura  Paro Industria  Paro Construcción  \\\n",
       "0                    11                13               3                  4   \n",
       "1                    17                 7               4                 13   \n",
       "2                   516               362              67                198   \n",
       "\n",
       "   Paro Servicios  Paro Sin empleo Anterior  \n",
       "0              55                         9  \n",
       "1              44                         8  \n",
       "2            1178                       184  "
      ]
     },
     "execution_count": 9,
     "metadata": {},
     "output_type": "execute_result"
    }
   ],
   "source": [
    "data.head(3)"
   ]
  },
  {
   "cell_type": "markdown",
   "id": "neither-hearing",
   "metadata": {},
   "source": [
    "### 4º Remove all the duplicate data."
   ]
  },
  {
   "cell_type": "code",
   "execution_count": 10,
   "id": "fifteen-enhancement",
   "metadata": {},
   "outputs": [],
   "source": [
    "def remove_duplicates(data):\n",
    "    return data.drop_duplicates()"
   ]
  },
  {
   "cell_type": "code",
   "execution_count": 11,
   "id": "central-humanitarian",
   "metadata": {},
   "outputs": [
    {
     "data": {
      "text/plain": [
       "(89446, 20)"
      ]
     },
     "execution_count": 11,
     "metadata": {},
     "output_type": "execute_result"
    }
   ],
   "source": [
    "data = remove_duplicates(data)\n",
    "data.shape"
   ]
  },
  {
   "cell_type": "markdown",
   "id": "educated-complexity",
   "metadata": {},
   "source": [
    "### 5º Remove some columns."
   ]
  },
  {
   "cell_type": "code",
   "execution_count": 12,
   "id": "convenient-ocean",
   "metadata": {
    "scrolled": false
   },
   "outputs": [],
   "source": [
    "def remove_columns(data):\n",
    "    return data.drop(columns = [\"Codigo Provincia\",\"Provincia\",\"Codigo Municipio\",\" Municipio\"])\n"
   ]
  },
  {
   "cell_type": "code",
   "execution_count": null,
   "id": "sunset-company",
   "metadata": {},
   "outputs": [],
   "source": [
    "data = remove_columns(data)"
   ]
  },
  {
   "cell_type": "markdown",
   "id": "unexpected-economics",
   "metadata": {},
   "source": [
    "### 6º Check the columns through which i want to filter."
   ]
  },
  {
   "cell_type": "code",
   "execution_count": 13,
   "id": "sustained-payment",
   "metadata": {},
   "outputs": [
    {
     "data": {
      "text/plain": [
       "array(['Andalucía', 'Aragón', 'Asturias; Principado de', 'Balears; Illes',\n",
       "       'Canarias', 'Cantabria', 'Castilla y León', 'Castilla - La Mancha',\n",
       "       'Cataluña', 'Comunitat Valenciana', 'Extremadura', 'Galicia',\n",
       "       'Madrid; Comunidad de', 'Murcia; Región de',\n",
       "       'Navarra; Comunidad Foral de', 'País Vasco', 'Rioja; La', 'Ceuta',\n",
       "       'Melilla'], dtype=object)"
      ]
     },
     "execution_count": 13,
     "metadata": {},
     "output_type": "execute_result"
    }
   ],
   "source": [
    "data[\"Comunidad Autónoma\"].unique()"
   ]
  },
  {
   "cell_type": "code",
   "execution_count": 14,
   "id": "selected-product",
   "metadata": {
    "scrolled": true
   },
   "outputs": [
    {
     "name": "stdout",
     "output_type": "stream",
     "text": [
      " Total Comunidades Autónomas : 19\n"
     ]
    }
   ],
   "source": [
    "print(\" Total Comunidades Autónomas :\",len(data[\"Comunidad Autónoma\"].unique()))"
   ]
  },
  {
   "cell_type": "code",
   "execution_count": 15,
   "id": "arranged-document",
   "metadata": {},
   "outputs": [
    {
     "data": {
      "text/plain": [
       "array(['Enero de 2020', 'Febrero de 2020', 'Marzo de 2020',\n",
       "       'Abril de 2020', 'Mayo de 2020', 'Junio de 2020', 'Julio de 2020',\n",
       "       'Agosto de 2020', 'Septiembre de 2020', 'Octubre de 2020',\n",
       "       'Noviembre de 2020'], dtype=object)"
      ]
     },
     "execution_count": 15,
     "metadata": {},
     "output_type": "execute_result"
    }
   ],
   "source": [
    "data[\"mes\"].unique()"
   ]
  },
  {
   "cell_type": "code",
   "execution_count": 16,
   "id": "verbal-initial",
   "metadata": {},
   "outputs": [
    {
     "name": "stdout",
     "output_type": "stream",
     "text": [
      " Total months : 11\n"
     ]
    }
   ],
   "source": [
    "print(\" Total months :\",len(data[\"mes\"].unique()))"
   ]
  },
  {
   "cell_type": "markdown",
   "id": "adjacent-occasions",
   "metadata": {},
   "source": [
    "### 7 º Group by `mes` and `Comunidad Autónoma`."
   ]
  },
  {
   "cell_type": "code",
   "execution_count": 17,
   "id": "identified-active",
   "metadata": {},
   "outputs": [],
   "source": [
    "def groupby_columns(data):\n",
    "    return data.groupby(['mes','Comunidad Autónoma'])['total Paro Registrado', 'Paro hombre edad < 25',\n",
    "       'Paro hombre edad 25 -45 ', 'Paro hombre edad >=45',\n",
    "       'Paro mujer edad < 25', 'Paro mujer edad 25 -45 ',\n",
    "       'Paro mujer edad >=45', 'Paro Agricultura', 'Paro Industria',\n",
    "       'Paro Construcción', 'Paro Servicios', 'Paro Sin empleo Anterior'].sum()\n"
   ]
  },
  {
   "cell_type": "code",
   "execution_count": 21,
   "id": "humanitarian-blast",
   "metadata": {
    "scrolled": true
   },
   "outputs": [
    {
     "name": "stderr",
     "output_type": "stream",
     "text": [
      "<ipython-input-17-d3c4b184eca6>:2: FutureWarning: Indexing with multiple keys (implicitly converted to a tuple of keys) will be deprecated, use a list instead.\n",
      "  return data.groupby(['mes','Comunidad Autónoma'])['total Paro Registrado', 'Paro hombre edad < 25',\n"
     ]
    },
    {
     "data": {
      "text/html": [
       "<div>\n",
       "<style scoped>\n",
       "    .dataframe tbody tr th:only-of-type {\n",
       "        vertical-align: middle;\n",
       "    }\n",
       "\n",
       "    .dataframe tbody tr th {\n",
       "        vertical-align: top;\n",
       "    }\n",
       "\n",
       "    .dataframe thead th {\n",
       "        text-align: right;\n",
       "    }\n",
       "</style>\n",
       "<table border=\"1\" class=\"dataframe\">\n",
       "  <thead>\n",
       "    <tr style=\"text-align: right;\">\n",
       "      <th></th>\n",
       "      <th></th>\n",
       "      <th>total Paro Registrado</th>\n",
       "      <th>Paro hombre edad &lt; 25</th>\n",
       "      <th>Paro hombre edad 25 -45</th>\n",
       "      <th>Paro hombre edad &gt;=45</th>\n",
       "      <th>Paro mujer edad &lt; 25</th>\n",
       "      <th>Paro mujer edad 25 -45</th>\n",
       "      <th>Paro mujer edad &gt;=45</th>\n",
       "      <th>Paro Agricultura</th>\n",
       "      <th>Paro Industria</th>\n",
       "      <th>Paro Construcción</th>\n",
       "      <th>Paro Servicios</th>\n",
       "      <th>Paro Sin empleo Anterior</th>\n",
       "    </tr>\n",
       "    <tr>\n",
       "      <th>mes</th>\n",
       "      <th>Comunidad Autónoma</th>\n",
       "      <th></th>\n",
       "      <th></th>\n",
       "      <th></th>\n",
       "      <th></th>\n",
       "      <th></th>\n",
       "      <th></th>\n",
       "      <th></th>\n",
       "      <th></th>\n",
       "      <th></th>\n",
       "      <th></th>\n",
       "      <th></th>\n",
       "      <th></th>\n",
       "    </tr>\n",
       "  </thead>\n",
       "  <tbody>\n",
       "    <tr>\n",
       "      <th rowspan=\"19\" valign=\"top\">Abril de 2020</th>\n",
       "      <th>Andalucía</th>\n",
       "      <td>978297</td>\n",
       "      <td>43593</td>\n",
       "      <td>190621</td>\n",
       "      <td>194878</td>\n",
       "      <td>42170</td>\n",
       "      <td>261692</td>\n",
       "      <td>245343</td>\n",
       "      <td>71597</td>\n",
       "      <td>61299</td>\n",
       "      <td>101074</td>\n",
       "      <td>657397</td>\n",
       "      <td>86930</td>\n",
       "    </tr>\n",
       "    <tr>\n",
       "      <th>Aragón</th>\n",
       "      <td>79214</td>\n",
       "      <td>4269</td>\n",
       "      <td>14028</td>\n",
       "      <td>15627</td>\n",
       "      <td>3851</td>\n",
       "      <td>19993</td>\n",
       "      <td>21446</td>\n",
       "      <td>3591</td>\n",
       "      <td>8990</td>\n",
       "      <td>5444</td>\n",
       "      <td>55588</td>\n",
       "      <td>5601</td>\n",
       "    </tr>\n",
       "    <tr>\n",
       "      <th>Asturias; Principado de</th>\n",
       "      <td>83793</td>\n",
       "      <td>3047</td>\n",
       "      <td>16267</td>\n",
       "      <td>18868</td>\n",
       "      <td>2723</td>\n",
       "      <td>20084</td>\n",
       "      <td>22804</td>\n",
       "      <td>1433</td>\n",
       "      <td>7211</td>\n",
       "      <td>7657</td>\n",
       "      <td>60588</td>\n",
       "      <td>6904</td>\n",
       "    </tr>\n",
       "    <tr>\n",
       "      <th>Balears; Illes</th>\n",
       "      <td>72542</td>\n",
       "      <td>4789</td>\n",
       "      <td>15672</td>\n",
       "      <td>13212</td>\n",
       "      <td>4497</td>\n",
       "      <td>19216</td>\n",
       "      <td>15156</td>\n",
       "      <td>828</td>\n",
       "      <td>2986</td>\n",
       "      <td>8198</td>\n",
       "      <td>57532</td>\n",
       "      <td>2998</td>\n",
       "    </tr>\n",
       "    <tr>\n",
       "      <th>Canarias</th>\n",
       "      <td>254981</td>\n",
       "      <td>9645</td>\n",
       "      <td>47987</td>\n",
       "      <td>59819</td>\n",
       "      <td>8571</td>\n",
       "      <td>59514</td>\n",
       "      <td>69445</td>\n",
       "      <td>5087</td>\n",
       "      <td>9842</td>\n",
       "      <td>26374</td>\n",
       "      <td>197385</td>\n",
       "      <td>16293</td>\n",
       "    </tr>\n",
       "    <tr>\n",
       "      <th>Cantabria</th>\n",
       "      <td>43669</td>\n",
       "      <td>1772</td>\n",
       "      <td>8453</td>\n",
       "      <td>9646</td>\n",
       "      <td>1571</td>\n",
       "      <td>10813</td>\n",
       "      <td>11414</td>\n",
       "      <td>699</td>\n",
       "      <td>3482</td>\n",
       "      <td>3731</td>\n",
       "      <td>32801</td>\n",
       "      <td>2956</td>\n",
       "    </tr>\n",
       "    <tr>\n",
       "      <th>Castilla - La Mancha</th>\n",
       "      <td>199019</td>\n",
       "      <td>9538</td>\n",
       "      <td>32143</td>\n",
       "      <td>37755</td>\n",
       "      <td>8840</td>\n",
       "      <td>51741</td>\n",
       "      <td>59002</td>\n",
       "      <td>15583</td>\n",
       "      <td>19837</td>\n",
       "      <td>18007</td>\n",
       "      <td>132102</td>\n",
       "      <td>13490</td>\n",
       "    </tr>\n",
       "    <tr>\n",
       "      <th>Castilla y León</th>\n",
       "      <td>166354</td>\n",
       "      <td>7679</td>\n",
       "      <td>29040</td>\n",
       "      <td>36903</td>\n",
       "      <td>6723</td>\n",
       "      <td>38616</td>\n",
       "      <td>47393</td>\n",
       "      <td>8684</td>\n",
       "      <td>15318</td>\n",
       "      <td>12998</td>\n",
       "      <td>115801</td>\n",
       "      <td>13553</td>\n",
       "    </tr>\n",
       "    <tr>\n",
       "      <th>Cataluña</th>\n",
       "      <td>467810</td>\n",
       "      <td>18857</td>\n",
       "      <td>88979</td>\n",
       "      <td>104691</td>\n",
       "      <td>16566</td>\n",
       "      <td>108080</td>\n",
       "      <td>130637</td>\n",
       "      <td>8526</td>\n",
       "      <td>49903</td>\n",
       "      <td>38706</td>\n",
       "      <td>345370</td>\n",
       "      <td>25305</td>\n",
       "    </tr>\n",
       "    <tr>\n",
       "      <th>Ceuta</th>\n",
       "      <td>11899</td>\n",
       "      <td>632</td>\n",
       "      <td>2168</td>\n",
       "      <td>2114</td>\n",
       "      <td>748</td>\n",
       "      <td>3447</td>\n",
       "      <td>2790</td>\n",
       "      <td>76</td>\n",
       "      <td>471</td>\n",
       "      <td>575</td>\n",
       "      <td>8803</td>\n",
       "      <td>1974</td>\n",
       "    </tr>\n",
       "    <tr>\n",
       "      <th>Comunitat Valenciana</th>\n",
       "      <td>439942</td>\n",
       "      <td>19919</td>\n",
       "      <td>75798</td>\n",
       "      <td>92286</td>\n",
       "      <td>17711</td>\n",
       "      <td>106216</td>\n",
       "      <td>128012</td>\n",
       "      <td>13798</td>\n",
       "      <td>58134</td>\n",
       "      <td>36774</td>\n",
       "      <td>306062</td>\n",
       "      <td>25174</td>\n",
       "    </tr>\n",
       "    <tr>\n",
       "      <th>Extremadura</th>\n",
       "      <td>115445</td>\n",
       "      <td>5592</td>\n",
       "      <td>19211</td>\n",
       "      <td>22668</td>\n",
       "      <td>5272</td>\n",
       "      <td>30043</td>\n",
       "      <td>32659</td>\n",
       "      <td>11034</td>\n",
       "      <td>7017</td>\n",
       "      <td>11048</td>\n",
       "      <td>80304</td>\n",
       "      <td>6042</td>\n",
       "    </tr>\n",
       "    <tr>\n",
       "      <th>Galicia</th>\n",
       "      <td>191629</td>\n",
       "      <td>4919</td>\n",
       "      <td>35436</td>\n",
       "      <td>44627</td>\n",
       "      <td>4631</td>\n",
       "      <td>47574</td>\n",
       "      <td>54442</td>\n",
       "      <td>6385</td>\n",
       "      <td>21221</td>\n",
       "      <td>16358</td>\n",
       "      <td>134031</td>\n",
       "      <td>13634</td>\n",
       "    </tr>\n",
       "    <tr>\n",
       "      <th>Madrid; Comunidad de</th>\n",
       "      <td>405023</td>\n",
       "      <td>16496</td>\n",
       "      <td>74174</td>\n",
       "      <td>86517</td>\n",
       "      <td>15554</td>\n",
       "      <td>98994</td>\n",
       "      <td>113288</td>\n",
       "      <td>2925</td>\n",
       "      <td>23609</td>\n",
       "      <td>34065</td>\n",
       "      <td>321096</td>\n",
       "      <td>23328</td>\n",
       "    </tr>\n",
       "    <tr>\n",
       "      <th>Melilla</th>\n",
       "      <td>9350</td>\n",
       "      <td>599</td>\n",
       "      <td>1385</td>\n",
       "      <td>1682</td>\n",
       "      <td>720</td>\n",
       "      <td>2685</td>\n",
       "      <td>2279</td>\n",
       "      <td>63</td>\n",
       "      <td>157</td>\n",
       "      <td>663</td>\n",
       "      <td>6780</td>\n",
       "      <td>1687</td>\n",
       "    </tr>\n",
       "    <tr>\n",
       "      <th>Murcia; Región de</th>\n",
       "      <td>114208</td>\n",
       "      <td>5628</td>\n",
       "      <td>19538</td>\n",
       "      <td>21823</td>\n",
       "      <td>5545</td>\n",
       "      <td>30419</td>\n",
       "      <td>31255</td>\n",
       "      <td>6704</td>\n",
       "      <td>12502</td>\n",
       "      <td>10136</td>\n",
       "      <td>75671</td>\n",
       "      <td>9195</td>\n",
       "    </tr>\n",
       "    <tr>\n",
       "      <th>Navarra; Comunidad Foral de</th>\n",
       "      <td>40442</td>\n",
       "      <td>2125</td>\n",
       "      <td>7718</td>\n",
       "      <td>7753</td>\n",
       "      <td>1966</td>\n",
       "      <td>10502</td>\n",
       "      <td>10378</td>\n",
       "      <td>2068</td>\n",
       "      <td>5210</td>\n",
       "      <td>1990</td>\n",
       "      <td>28021</td>\n",
       "      <td>3153</td>\n",
       "    </tr>\n",
       "    <tr>\n",
       "      <th>País Vasco</th>\n",
       "      <td>138643</td>\n",
       "      <td>5617</td>\n",
       "      <td>27291</td>\n",
       "      <td>29797</td>\n",
       "      <td>5077</td>\n",
       "      <td>34339</td>\n",
       "      <td>36522</td>\n",
       "      <td>2764</td>\n",
       "      <td>16730</td>\n",
       "      <td>9475</td>\n",
       "      <td>94462</td>\n",
       "      <td>15212</td>\n",
       "    </tr>\n",
       "    <tr>\n",
       "      <th>Rioja; La</th>\n",
       "      <td>18943</td>\n",
       "      <td>734</td>\n",
       "      <td>3258</td>\n",
       "      <td>4120</td>\n",
       "      <td>636</td>\n",
       "      <td>4514</td>\n",
       "      <td>5681</td>\n",
       "      <td>1590</td>\n",
       "      <td>3592</td>\n",
       "      <td>1168</td>\n",
       "      <td>11689</td>\n",
       "      <td>904</td>\n",
       "    </tr>\n",
       "  </tbody>\n",
       "</table>\n",
       "</div>"
      ],
      "text/plain": [
       "                                           total Paro Registrado  \\\n",
       "mes           Comunidad Autónoma                                   \n",
       "Abril de 2020 Andalucía                                   978297   \n",
       "              Aragón                                       79214   \n",
       "              Asturias; Principado de                      83793   \n",
       "              Balears; Illes                               72542   \n",
       "              Canarias                                    254981   \n",
       "              Cantabria                                    43669   \n",
       "              Castilla - La Mancha                        199019   \n",
       "              Castilla y León                             166354   \n",
       "              Cataluña                                    467810   \n",
       "              Ceuta                                        11899   \n",
       "              Comunitat Valenciana                        439942   \n",
       "              Extremadura                                 115445   \n",
       "              Galicia                                     191629   \n",
       "              Madrid; Comunidad de                        405023   \n",
       "              Melilla                                       9350   \n",
       "              Murcia; Región de                           114208   \n",
       "              Navarra; Comunidad Foral de                  40442   \n",
       "              País Vasco                                  138643   \n",
       "              Rioja; La                                    18943   \n",
       "\n",
       "                                           Paro hombre edad < 25  \\\n",
       "mes           Comunidad Autónoma                                   \n",
       "Abril de 2020 Andalucía                                    43593   \n",
       "              Aragón                                        4269   \n",
       "              Asturias; Principado de                       3047   \n",
       "              Balears; Illes                                4789   \n",
       "              Canarias                                      9645   \n",
       "              Cantabria                                     1772   \n",
       "              Castilla - La Mancha                          9538   \n",
       "              Castilla y León                               7679   \n",
       "              Cataluña                                     18857   \n",
       "              Ceuta                                          632   \n",
       "              Comunitat Valenciana                         19919   \n",
       "              Extremadura                                   5592   \n",
       "              Galicia                                       4919   \n",
       "              Madrid; Comunidad de                         16496   \n",
       "              Melilla                                        599   \n",
       "              Murcia; Región de                             5628   \n",
       "              Navarra; Comunidad Foral de                   2125   \n",
       "              País Vasco                                    5617   \n",
       "              Rioja; La                                      734   \n",
       "\n",
       "                                           Paro hombre edad 25 -45   \\\n",
       "mes           Comunidad Autónoma                                      \n",
       "Abril de 2020 Andalucía                                      190621   \n",
       "              Aragón                                          14028   \n",
       "              Asturias; Principado de                         16267   \n",
       "              Balears; Illes                                  15672   \n",
       "              Canarias                                        47987   \n",
       "              Cantabria                                        8453   \n",
       "              Castilla - La Mancha                            32143   \n",
       "              Castilla y León                                 29040   \n",
       "              Cataluña                                        88979   \n",
       "              Ceuta                                            2168   \n",
       "              Comunitat Valenciana                            75798   \n",
       "              Extremadura                                     19211   \n",
       "              Galicia                                         35436   \n",
       "              Madrid; Comunidad de                            74174   \n",
       "              Melilla                                          1385   \n",
       "              Murcia; Región de                               19538   \n",
       "              Navarra; Comunidad Foral de                      7718   \n",
       "              País Vasco                                      27291   \n",
       "              Rioja; La                                        3258   \n",
       "\n",
       "                                           Paro hombre edad >=45  \\\n",
       "mes           Comunidad Autónoma                                   \n",
       "Abril de 2020 Andalucía                                   194878   \n",
       "              Aragón                                       15627   \n",
       "              Asturias; Principado de                      18868   \n",
       "              Balears; Illes                               13212   \n",
       "              Canarias                                     59819   \n",
       "              Cantabria                                     9646   \n",
       "              Castilla - La Mancha                         37755   \n",
       "              Castilla y León                              36903   \n",
       "              Cataluña                                    104691   \n",
       "              Ceuta                                         2114   \n",
       "              Comunitat Valenciana                         92286   \n",
       "              Extremadura                                  22668   \n",
       "              Galicia                                      44627   \n",
       "              Madrid; Comunidad de                         86517   \n",
       "              Melilla                                       1682   \n",
       "              Murcia; Región de                            21823   \n",
       "              Navarra; Comunidad Foral de                   7753   \n",
       "              País Vasco                                   29797   \n",
       "              Rioja; La                                     4120   \n",
       "\n",
       "                                           Paro mujer edad < 25  \\\n",
       "mes           Comunidad Autónoma                                  \n",
       "Abril de 2020 Andalucía                                   42170   \n",
       "              Aragón                                       3851   \n",
       "              Asturias; Principado de                      2723   \n",
       "              Balears; Illes                               4497   \n",
       "              Canarias                                     8571   \n",
       "              Cantabria                                    1571   \n",
       "              Castilla - La Mancha                         8840   \n",
       "              Castilla y León                              6723   \n",
       "              Cataluña                                    16566   \n",
       "              Ceuta                                         748   \n",
       "              Comunitat Valenciana                        17711   \n",
       "              Extremadura                                  5272   \n",
       "              Galicia                                      4631   \n",
       "              Madrid; Comunidad de                        15554   \n",
       "              Melilla                                       720   \n",
       "              Murcia; Región de                            5545   \n",
       "              Navarra; Comunidad Foral de                  1966   \n",
       "              País Vasco                                   5077   \n",
       "              Rioja; La                                     636   \n",
       "\n",
       "                                           Paro mujer edad 25 -45   \\\n",
       "mes           Comunidad Autónoma                                     \n",
       "Abril de 2020 Andalucía                                     261692   \n",
       "              Aragón                                         19993   \n",
       "              Asturias; Principado de                        20084   \n",
       "              Balears; Illes                                 19216   \n",
       "              Canarias                                       59514   \n",
       "              Cantabria                                      10813   \n",
       "              Castilla - La Mancha                           51741   \n",
       "              Castilla y León                                38616   \n",
       "              Cataluña                                      108080   \n",
       "              Ceuta                                           3447   \n",
       "              Comunitat Valenciana                          106216   \n",
       "              Extremadura                                    30043   \n",
       "              Galicia                                        47574   \n",
       "              Madrid; Comunidad de                           98994   \n",
       "              Melilla                                         2685   \n",
       "              Murcia; Región de                              30419   \n",
       "              Navarra; Comunidad Foral de                    10502   \n",
       "              País Vasco                                     34339   \n",
       "              Rioja; La                                       4514   \n",
       "\n",
       "                                           Paro mujer edad >=45  \\\n",
       "mes           Comunidad Autónoma                                  \n",
       "Abril de 2020 Andalucía                                  245343   \n",
       "              Aragón                                      21446   \n",
       "              Asturias; Principado de                     22804   \n",
       "              Balears; Illes                              15156   \n",
       "              Canarias                                    69445   \n",
       "              Cantabria                                   11414   \n",
       "              Castilla - La Mancha                        59002   \n",
       "              Castilla y León                             47393   \n",
       "              Cataluña                                   130637   \n",
       "              Ceuta                                        2790   \n",
       "              Comunitat Valenciana                       128012   \n",
       "              Extremadura                                 32659   \n",
       "              Galicia                                     54442   \n",
       "              Madrid; Comunidad de                       113288   \n",
       "              Melilla                                      2279   \n",
       "              Murcia; Región de                           31255   \n",
       "              Navarra; Comunidad Foral de                 10378   \n",
       "              País Vasco                                  36522   \n",
       "              Rioja; La                                    5681   \n",
       "\n",
       "                                           Paro Agricultura  Paro Industria  \\\n",
       "mes           Comunidad Autónoma                                              \n",
       "Abril de 2020 Andalucía                               71597           61299   \n",
       "              Aragón                                   3591            8990   \n",
       "              Asturias; Principado de                  1433            7211   \n",
       "              Balears; Illes                            828            2986   \n",
       "              Canarias                                 5087            9842   \n",
       "              Cantabria                                 699            3482   \n",
       "              Castilla - La Mancha                    15583           19837   \n",
       "              Castilla y León                          8684           15318   \n",
       "              Cataluña                                 8526           49903   \n",
       "              Ceuta                                      76             471   \n",
       "              Comunitat Valenciana                    13798           58134   \n",
       "              Extremadura                             11034            7017   \n",
       "              Galicia                                  6385           21221   \n",
       "              Madrid; Comunidad de                     2925           23609   \n",
       "              Melilla                                    63             157   \n",
       "              Murcia; Región de                        6704           12502   \n",
       "              Navarra; Comunidad Foral de              2068            5210   \n",
       "              País Vasco                               2764           16730   \n",
       "              Rioja; La                                1590            3592   \n",
       "\n",
       "                                           Paro Construcción  Paro Servicios  \\\n",
       "mes           Comunidad Autónoma                                               \n",
       "Abril de 2020 Andalucía                               101074          657397   \n",
       "              Aragón                                    5444           55588   \n",
       "              Asturias; Principado de                   7657           60588   \n",
       "              Balears; Illes                            8198           57532   \n",
       "              Canarias                                 26374          197385   \n",
       "              Cantabria                                 3731           32801   \n",
       "              Castilla - La Mancha                     18007          132102   \n",
       "              Castilla y León                          12998          115801   \n",
       "              Cataluña                                 38706          345370   \n",
       "              Ceuta                                      575            8803   \n",
       "              Comunitat Valenciana                     36774          306062   \n",
       "              Extremadura                              11048           80304   \n",
       "              Galicia                                  16358          134031   \n",
       "              Madrid; Comunidad de                     34065          321096   \n",
       "              Melilla                                    663            6780   \n",
       "              Murcia; Región de                        10136           75671   \n",
       "              Navarra; Comunidad Foral de               1990           28021   \n",
       "              País Vasco                                9475           94462   \n",
       "              Rioja; La                                 1168           11689   \n",
       "\n",
       "                                           Paro Sin empleo Anterior  \n",
       "mes           Comunidad Autónoma                                     \n",
       "Abril de 2020 Andalucía                                       86930  \n",
       "              Aragón                                           5601  \n",
       "              Asturias; Principado de                          6904  \n",
       "              Balears; Illes                                   2998  \n",
       "              Canarias                                        16293  \n",
       "              Cantabria                                        2956  \n",
       "              Castilla - La Mancha                            13490  \n",
       "              Castilla y León                                 13553  \n",
       "              Cataluña                                        25305  \n",
       "              Ceuta                                            1974  \n",
       "              Comunitat Valenciana                            25174  \n",
       "              Extremadura                                      6042  \n",
       "              Galicia                                         13634  \n",
       "              Madrid; Comunidad de                            23328  \n",
       "              Melilla                                          1687  \n",
       "              Murcia; Región de                                9195  \n",
       "              Navarra; Comunidad Foral de                      3153  \n",
       "              País Vasco                                      15212  \n",
       "              Rioja; La                                         904  "
      ]
     },
     "execution_count": 21,
     "metadata": {},
     "output_type": "execute_result"
    }
   ],
   "source": [
    "data1 = groupby_columns(data)\n",
    "data1[:19]"
   ]
  },
  {
   "cell_type": "code",
   "execution_count": 20,
   "id": "sharp-franchise",
   "metadata": {},
   "outputs": [
    {
     "data": {
      "text/plain": [
       "False"
      ]
     },
     "execution_count": 20,
     "metadata": {},
     "output_type": "execute_result"
    }
   ],
   "source": [
    "# data1 has no null values\n",
    "data1.isnull().values.any()"
   ]
  },
  {
   "cell_type": "code",
   "execution_count": 19,
   "id": "instant-meditation",
   "metadata": {
    "scrolled": true
   },
   "outputs": [
    {
     "data": {
      "text/plain": [
       "'Antes de todo revisar que no hay valores nulos.\\nPreguntar por:\\n- Cómo puede afectar las colummnas mes y comunidad autónoma, que ahora son index. Para la visualización.\\n- Cómo cambiar el nombre de cada columna del index\\n- Cómo ordenar la columna mes\\n- ¿Tengo que poner un nuevo index o tengo que pasar las dos columnas del index a columnas normales?'"
      ]
     },
     "execution_count": 19,
     "metadata": {},
     "output_type": "execute_result"
    }
   ],
   "source": [
    "''' 1º Solucionar la importación de funciones\n",
    "Preguntar por:\n",
    "- Cómo puede afectar las colummnas mes y comunidad autónoma, que ahora son index. Para la visualización.\n",
    "- Cómo cambiar el nombre de cada columna del index\n",
    "- Cómo ordenar la columna mes\n",
    "- ¿Tengo que poner un nuevo index o tengo que pasar las dos columnas del index a columnas normales?'''"
   ]
  },
  {
   "cell_type": "markdown",
   "id": "continental-speaker",
   "metadata": {},
   "source": [
    "### 8º Change the name of the columns."
   ]
  }
 ],
 "metadata": {
  "kernelspec": {
   "display_name": "Python 3",
   "language": "python",
   "name": "python3"
  },
  "language_info": {
   "codemirror_mode": {
    "name": "ipython",
    "version": 3
   },
   "file_extension": ".py",
   "mimetype": "text/x-python",
   "name": "python",
   "nbconvert_exporter": "python",
   "pygments_lexer": "ipython3",
   "version": "3.9.1"
  }
 },
 "nbformat": 4,
 "nbformat_minor": 5
}
