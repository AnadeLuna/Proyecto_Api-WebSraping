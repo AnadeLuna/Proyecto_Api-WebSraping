{
 "cells": [
  {
   "cell_type": "markdown",
   "id": "cubic-class",
   "metadata": {},
   "source": [
    "# Cleaning the DataSet. \n",
    "# Unemployment of the different communities in Spain during the months of 2020."
   ]
  },
  {
   "cell_type": "markdown",
   "id": "liable-richardson",
   "metadata": {},
   "source": [
    "### 1º Import all the libraries that i will need use."
   ]
  },
  {
   "cell_type": "code",
   "execution_count": 3,
   "id": "isolated-gibson",
   "metadata": {},
   "outputs": [],
   "source": [
    "import numpy as np\n",
    "import pandas as pd\n",
    "import funtions_cleaning as fc\n",
    "import sys\n",
    "sys.path.append(\"../\")\n",
    "\n",
    "\n",
    "#path = \"../data/paro_2020.csv\""
   ]
  },
  {
   "cell_type": "code",
   "execution_count": 4,
   "id": "miniature-ghost",
   "metadata": {
    "collapsed": true
   },
   "outputs": [
    {
     "name": "stdout",
     "output_type": "stream",
     "text": [
      "Introduce the path of the file : ../data/paro_2020.csv\n",
      "(89446, 20)\n",
      "Index(['Código mes ', 'mes', 'Código de CA', 'Comunidad Autónoma',\n",
      "       'Codigo Provincia', 'Provincia', 'Codigo Municipio', ' Municipio',\n",
      "       'total Paro Registrado', 'Paro hombre edad < 25',\n",
      "       'Paro hombre edad 25 -45 ', 'Paro hombre edad >=45',\n",
      "       'Paro mujer edad < 25', 'Paro mujer edad 25 -45 ',\n",
      "       'Paro mujer edad >=45', 'Paro Agricultura', 'Paro Industria',\n",
      "       'Paro Construcción', 'Paro Servicios', 'Paro Sin empleo Anterior'],\n",
      "      dtype='object')\n",
      "   Código mes             mes  Código de CA Comunidad Autónoma  \\\n",
      "0       202001  Enero de 2020             1          Andalucía   \n",
      "1       202001  Enero de 2020             1          Andalucía   \n",
      "2       202001  Enero de 2020             1          Andalucía   \n",
      "\n",
      "   Codigo Provincia Provincia  Codigo Municipio  Municipio  \\\n",
      "0                 4   Almería              4001       Abla   \n",
      "1                 4   Almería              4002   Abrucena   \n",
      "2                 4   Almería              4003       Adra   \n",
      "\n",
      "   total Paro Registrado  Paro hombre edad < 25  Paro hombre edad 25 -45   \\\n",
      "0                     84                      6                        11   \n",
      "1                     76                      5                        10   \n",
      "2                   1989                     92                       347   \n",
      "\n",
      "   Paro hombre edad >=45  Paro mujer edad < 25  Paro mujer edad 25 -45   \\\n",
      "0                     27                     4                       25   \n",
      "1                     19                     8                       17   \n",
      "2                    415                    78                      541   \n",
      "\n",
      "   Paro mujer edad >=45  Paro Agricultura  Paro Industria  Paro Construcción  \\\n",
      "0                    11                13               3                  4   \n",
      "1                    17                 7               4                 13   \n",
      "2                   516               362              67                198   \n",
      "\n",
      "   Paro Servicios  Paro Sin empleo Anterior  \n",
      "0              55                         9  \n",
      "1              44                         8  \n",
      "2            1178                       184  \n",
      " Total Comunidades Autónomas : 19\n",
      " Total months : 11\n",
      "                                           total Paro Registrado  \\\n",
      "mes           Comunidad Autónoma                                   \n",
      "Abril de 2020 Andalucía                                   978297   \n",
      "              Aragón                                       79214   \n",
      "              Asturias; Principado de                      83793   \n",
      "              Balears; Illes                               72542   \n",
      "              Canarias                                    254981   \n",
      "              Cantabria                                    43669   \n",
      "              Castilla - La Mancha                        199019   \n",
      "              Castilla y León                             166354   \n",
      "              Cataluña                                    467810   \n",
      "              Ceuta                                        11899   \n",
      "              Comunitat Valenciana                        439942   \n",
      "              Extremadura                                 115445   \n",
      "              Galicia                                     191629   \n",
      "              Madrid; Comunidad de                        405023   \n",
      "              Melilla                                       9350   \n",
      "              Murcia; Región de                           114208   \n",
      "              Navarra; Comunidad Foral de                  40442   \n",
      "              País Vasco                                  138643   \n",
      "              Rioja; La                                    18943   \n",
      "\n",
      "                                           Paro hombre edad < 25  \\\n",
      "mes           Comunidad Autónoma                                   \n",
      "Abril de 2020 Andalucía                                    43593   \n",
      "              Aragón                                        4269   \n",
      "              Asturias; Principado de                       3047   \n",
      "              Balears; Illes                                4789   \n",
      "              Canarias                                      9645   \n",
      "              Cantabria                                     1772   \n",
      "              Castilla - La Mancha                          9538   \n",
      "              Castilla y León                               7679   \n",
      "              Cataluña                                     18857   \n",
      "              Ceuta                                          632   \n",
      "              Comunitat Valenciana                         19919   \n",
      "              Extremadura                                   5592   \n",
      "              Galicia                                       4919   \n",
      "              Madrid; Comunidad de                         16496   \n",
      "              Melilla                                        599   \n",
      "              Murcia; Región de                             5628   \n",
      "              Navarra; Comunidad Foral de                   2125   \n",
      "              País Vasco                                    5617   \n",
      "              Rioja; La                                      734   \n",
      "\n",
      "                                           Paro hombre edad 25 -45   \\\n",
      "mes           Comunidad Autónoma                                      \n",
      "Abril de 2020 Andalucía                                      190621   \n",
      "              Aragón                                          14028   \n",
      "              Asturias; Principado de                         16267   \n",
      "              Balears; Illes                                  15672   \n",
      "              Canarias                                        47987   \n",
      "              Cantabria                                        8453   \n",
      "              Castilla - La Mancha                            32143   \n",
      "              Castilla y León                                 29040   \n",
      "              Cataluña                                        88979   \n",
      "              Ceuta                                            2168   \n",
      "              Comunitat Valenciana                            75798   \n",
      "              Extremadura                                     19211   \n",
      "              Galicia                                         35436   \n",
      "              Madrid; Comunidad de                            74174   \n",
      "              Melilla                                          1385   \n",
      "              Murcia; Región de                               19538   \n",
      "              Navarra; Comunidad Foral de                      7718   \n",
      "              País Vasco                                      27291   \n",
      "              Rioja; La                                        3258   \n",
      "\n",
      "                                           Paro hombre edad >=45  \\\n",
      "mes           Comunidad Autónoma                                   \n",
      "Abril de 2020 Andalucía                                   194878   \n",
      "              Aragón                                       15627   \n",
      "              Asturias; Principado de                      18868   \n",
      "              Balears; Illes                               13212   \n",
      "              Canarias                                     59819   \n",
      "              Cantabria                                     9646   \n",
      "              Castilla - La Mancha                         37755   \n",
      "              Castilla y León                              36903   \n",
      "              Cataluña                                    104691   \n",
      "              Ceuta                                         2114   \n",
      "              Comunitat Valenciana                         92286   \n",
      "              Extremadura                                  22668   \n",
      "              Galicia                                      44627   \n",
      "              Madrid; Comunidad de                         86517   \n",
      "              Melilla                                       1682   \n",
      "              Murcia; Región de                            21823   \n",
      "              Navarra; Comunidad Foral de                   7753   \n",
      "              País Vasco                                   29797   \n",
      "              Rioja; La                                     4120   \n",
      "\n",
      "                                           Paro mujer edad < 25  \\\n",
      "mes           Comunidad Autónoma                                  \n",
      "Abril de 2020 Andalucía                                   42170   \n",
      "              Aragón                                       3851   \n",
      "              Asturias; Principado de                      2723   \n",
      "              Balears; Illes                               4497   \n",
      "              Canarias                                     8571   \n",
      "              Cantabria                                    1571   \n",
      "              Castilla - La Mancha                         8840   \n",
      "              Castilla y León                              6723   \n",
      "              Cataluña                                    16566   \n",
      "              Ceuta                                         748   \n",
      "              Comunitat Valenciana                        17711   \n",
      "              Extremadura                                  5272   \n",
      "              Galicia                                      4631   \n",
      "              Madrid; Comunidad de                        15554   \n",
      "              Melilla                                       720   \n",
      "              Murcia; Región de                            5545   \n",
      "              Navarra; Comunidad Foral de                  1966   \n",
      "              País Vasco                                   5077   \n",
      "              Rioja; La                                     636   \n",
      "\n",
      "                                           Paro mujer edad 25 -45   \\\n",
      "mes           Comunidad Autónoma                                     \n",
      "Abril de 2020 Andalucía                                     261692   \n",
      "              Aragón                                         19993   \n",
      "              Asturias; Principado de                        20084   \n",
      "              Balears; Illes                                 19216   \n",
      "              Canarias                                       59514   \n",
      "              Cantabria                                      10813   \n",
      "              Castilla - La Mancha                           51741   \n",
      "              Castilla y León                                38616   \n",
      "              Cataluña                                      108080   \n",
      "              Ceuta                                           3447   \n",
      "              Comunitat Valenciana                          106216   \n",
      "              Extremadura                                    30043   \n",
      "              Galicia                                        47574   \n",
      "              Madrid; Comunidad de                           98994   \n",
      "              Melilla                                         2685   \n",
      "              Murcia; Región de                              30419   \n",
      "              Navarra; Comunidad Foral de                    10502   \n",
      "              País Vasco                                     34339   \n",
      "              Rioja; La                                       4514   \n",
      "\n",
      "                                           Paro mujer edad >=45  \\\n",
      "mes           Comunidad Autónoma                                  \n",
      "Abril de 2020 Andalucía                                  245343   \n",
      "              Aragón                                      21446   \n",
      "              Asturias; Principado de                     22804   \n",
      "              Balears; Illes                              15156   \n",
      "              Canarias                                    69445   \n",
      "              Cantabria                                   11414   \n",
      "              Castilla - La Mancha                        59002   \n",
      "              Castilla y León                             47393   \n",
      "              Cataluña                                   130637   \n",
      "              Ceuta                                        2790   \n",
      "              Comunitat Valenciana                       128012   \n",
      "              Extremadura                                 32659   \n",
      "              Galicia                                     54442   \n",
      "              Madrid; Comunidad de                       113288   \n",
      "              Melilla                                      2279   \n",
      "              Murcia; Región de                           31255   \n",
      "              Navarra; Comunidad Foral de                 10378   \n",
      "              País Vasco                                  36522   \n",
      "              Rioja; La                                    5681   \n",
      "\n",
      "                                           Paro Agricultura  Paro Industria  \\\n",
      "mes           Comunidad Autónoma                                              \n",
      "Abril de 2020 Andalucía                               71597           61299   \n",
      "              Aragón                                   3591            8990   \n",
      "              Asturias; Principado de                  1433            7211   \n",
      "              Balears; Illes                            828            2986   \n",
      "              Canarias                                 5087            9842   \n",
      "              Cantabria                                 699            3482   \n",
      "              Castilla - La Mancha                    15583           19837   \n",
      "              Castilla y León                          8684           15318   \n",
      "              Cataluña                                 8526           49903   \n",
      "              Ceuta                                      76             471   \n",
      "              Comunitat Valenciana                    13798           58134   \n",
      "              Extremadura                             11034            7017   \n",
      "              Galicia                                  6385           21221   \n",
      "              Madrid; Comunidad de                     2925           23609   \n",
      "              Melilla                                    63             157   \n",
      "              Murcia; Región de                        6704           12502   \n",
      "              Navarra; Comunidad Foral de              2068            5210   \n",
      "              País Vasco                               2764           16730   \n",
      "              Rioja; La                                1590            3592   \n",
      "\n",
      "                                           Paro Construcción  Paro Servicios  \\\n",
      "mes           Comunidad Autónoma                                               \n",
      "Abril de 2020 Andalucía                               101074          657397   \n",
      "              Aragón                                    5444           55588   \n",
      "              Asturias; Principado de                   7657           60588   \n",
      "              Balears; Illes                            8198           57532   \n",
      "              Canarias                                 26374          197385   \n",
      "              Cantabria                                 3731           32801   \n",
      "              Castilla - La Mancha                     18007          132102   \n",
      "              Castilla y León                          12998          115801   \n",
      "              Cataluña                                 38706          345370   \n",
      "              Ceuta                                      575            8803   \n",
      "              Comunitat Valenciana                     36774          306062   \n",
      "              Extremadura                              11048           80304   \n",
      "              Galicia                                  16358          134031   \n",
      "              Madrid; Comunidad de                     34065          321096   \n",
      "              Melilla                                    663            6780   \n",
      "              Murcia; Región de                        10136           75671   \n",
      "              Navarra; Comunidad Foral de               1990           28021   \n",
      "              País Vasco                                9475           94462   \n",
      "              Rioja; La                                 1168           11689   \n",
      "\n",
      "                                           Paro Sin empleo Anterior  \n",
      "mes           Comunidad Autónoma                                     \n",
      "Abril de 2020 Andalucía                                       86930  \n",
      "              Aragón                                           5601  \n",
      "              Asturias; Principado de                          6904  \n",
      "              Balears; Illes                                   2998  \n",
      "              Canarias                                        16293  \n",
      "              Cantabria                                        2956  \n",
      "              Castilla - La Mancha                            13490  \n",
      "              Castilla y León                                 13553  \n",
      "              Cataluña                                        25305  \n",
      "              Ceuta                                            1974  \n",
      "              Comunitat Valenciana                            25174  \n",
      "              Extremadura                                      6042  \n",
      "              Galicia                                         13634  \n",
      "              Madrid; Comunidad de                            23328  \n",
      "              Melilla                                          1687  \n",
      "              Murcia; Región de                                9195  \n",
      "              Navarra; Comunidad Foral de                      3153  \n",
      "              País Vasco                                      15212  \n",
      "              Rioja; La                                         904  \n",
      "False\n",
      "['Abril de 2020' 'Agosto de 2020' 'Enero de 2020' 'Febrero de 2020'\n",
      " 'Julio de 2020' 'Junio de 2020' 'Marzo de 2020' 'Mayo de 2020'\n",
      " 'Noviembre de 2020' 'Octubre de 2020' 'Septiembre de 2020']\n",
      "['Andalucía' 'Aragón' 'Asturias; Principado de' 'Balears; Illes'\n",
      " 'Canarias' 'Cantabria' 'Castilla - La Mancha' 'Castilla y León'\n",
      " 'Cataluña' 'Ceuta' 'Comunitat Valenciana' 'Extremadura' 'Galicia'\n",
      " 'Madrid; Comunidad de' 'Melilla' 'Murcia; Región de'\n",
      " 'Navarra; Comunidad Foral de' 'País Vasco' 'Rioja; La']\n",
      "Index(['mes', 'Comunidad Autónoma', 'total Paro Registrado',\n",
      "       'Paro hombre edad < 25', 'Paro hombre edad 25 -45 ',\n",
      "       'Paro hombre edad >=45', 'Paro mujer edad < 25',\n",
      "       'Paro mujer edad 25 -45 ', 'Paro mujer edad >=45', 'Paro Agricultura',\n",
      "       'Paro Industria', 'Paro Construcción', 'Paro Servicios',\n",
      "       'Paro Sin empleo Anterior'],\n",
      "      dtype='object')\n"
     ]
    },
    {
     "name": "stderr",
     "output_type": "stream",
     "text": [
      "/Users/anadeluna/proyectos-ironhack/Proyecto_WebSraping/src/funtions_cleaning.py:32: FutureWarning: Indexing with multiple keys (implicitly converted to a tuple of keys) will be deprecated, use a list instead.\n",
      "  data = data.groupby(['mes','Comunidad Autónoma'])['total Paro Registrado', 'Paro hombre edad < 25',\n",
      "/Users/anadeluna/proyectos-ironhack/Proyecto_WebSraping/src/funtions_cleaning.py:47: SettingWithCopyWarning: \n",
      "A value is trying to be set on a copy of a slice from a DataFrame\n",
      "\n",
      "See the caveats in the documentation: https://pandas.pydata.org/pandas-docs/stable/user_guide/indexing.html#returning-a-view-versus-a-copy\n",
      "  data[\"mes\"][data[\"mes\"] == 'Abril de 2020'] = \"Apr\"\n",
      "/Users/anadeluna/proyectos-ironhack/Proyecto_WebSraping/src/funtions_cleaning.py:48: SettingWithCopyWarning: \n",
      "A value is trying to be set on a copy of a slice from a DataFrame\n",
      "\n",
      "See the caveats in the documentation: https://pandas.pydata.org/pandas-docs/stable/user_guide/indexing.html#returning-a-view-versus-a-copy\n",
      "  data[\"mes\"][data[\"mes\"] == 'Agosto de 2020'] = \"Aug\"\n",
      "/Users/anadeluna/proyectos-ironhack/Proyecto_WebSraping/src/funtions_cleaning.py:49: SettingWithCopyWarning: \n",
      "A value is trying to be set on a copy of a slice from a DataFrame\n",
      "\n",
      "See the caveats in the documentation: https://pandas.pydata.org/pandas-docs/stable/user_guide/indexing.html#returning-a-view-versus-a-copy\n",
      "  data[\"mes\"][data[\"mes\"] == 'Enero de 2020'] = \"Jan\"\n",
      "/Users/anadeluna/proyectos-ironhack/Proyecto_WebSraping/src/funtions_cleaning.py:50: SettingWithCopyWarning: \n",
      "A value is trying to be set on a copy of a slice from a DataFrame\n",
      "\n",
      "See the caveats in the documentation: https://pandas.pydata.org/pandas-docs/stable/user_guide/indexing.html#returning-a-view-versus-a-copy\n",
      "  data[\"mes\"][data[\"mes\"] == 'Febrero de 2020'] = \"Feb\"\n",
      "/Users/anadeluna/proyectos-ironhack/Proyecto_WebSraping/src/funtions_cleaning.py:51: SettingWithCopyWarning: \n",
      "A value is trying to be set on a copy of a slice from a DataFrame\n",
      "\n",
      "See the caveats in the documentation: https://pandas.pydata.org/pandas-docs/stable/user_guide/indexing.html#returning-a-view-versus-a-copy\n",
      "  data[\"mes\"][data[\"mes\"] == 'Julio de 2020'] = \"Jul\"\n",
      "/Users/anadeluna/proyectos-ironhack/Proyecto_WebSraping/src/funtions_cleaning.py:52: SettingWithCopyWarning: \n",
      "A value is trying to be set on a copy of a slice from a DataFrame\n",
      "\n",
      "See the caveats in the documentation: https://pandas.pydata.org/pandas-docs/stable/user_guide/indexing.html#returning-a-view-versus-a-copy\n",
      "  data[\"mes\"][data[\"mes\"] == 'Junio de 2020'] = \"Jun\"\n",
      "/Users/anadeluna/proyectos-ironhack/Proyecto_WebSraping/src/funtions_cleaning.py:53: SettingWithCopyWarning: \n",
      "A value is trying to be set on a copy of a slice from a DataFrame\n",
      "\n",
      "See the caveats in the documentation: https://pandas.pydata.org/pandas-docs/stable/user_guide/indexing.html#returning-a-view-versus-a-copy\n",
      "  data[\"mes\"][data[\"mes\"] == 'Marzo de 2020'] = \" Mar\"\n",
      "/Users/anadeluna/proyectos-ironhack/Proyecto_WebSraping/src/funtions_cleaning.py:54: SettingWithCopyWarning: \n",
      "A value is trying to be set on a copy of a slice from a DataFrame\n",
      "\n",
      "See the caveats in the documentation: https://pandas.pydata.org/pandas-docs/stable/user_guide/indexing.html#returning-a-view-versus-a-copy\n",
      "  data[\"mes\"][data[\"mes\"] == 'Mayo de 2020'] = \"May\"\n",
      "/Users/anadeluna/proyectos-ironhack/Proyecto_WebSraping/src/funtions_cleaning.py:55: SettingWithCopyWarning: \n",
      "A value is trying to be set on a copy of a slice from a DataFrame\n",
      "\n",
      "See the caveats in the documentation: https://pandas.pydata.org/pandas-docs/stable/user_guide/indexing.html#returning-a-view-versus-a-copy\n",
      "  data[\"mes\"][data[\"mes\"] == 'Noviembre de 2020'] = \"Nov\"\n",
      "/Users/anadeluna/proyectos-ironhack/Proyecto_WebSraping/src/funtions_cleaning.py:56: SettingWithCopyWarning: \n",
      "A value is trying to be set on a copy of a slice from a DataFrame\n",
      "\n",
      "See the caveats in the documentation: https://pandas.pydata.org/pandas-docs/stable/user_guide/indexing.html#returning-a-view-versus-a-copy\n",
      "  data[\"mes\"][data[\"mes\"] == 'Octubre de 2020'] = \"Oct\"\n",
      "/Users/anadeluna/proyectos-ironhack/Proyecto_WebSraping/src/funtions_cleaning.py:57: SettingWithCopyWarning: \n",
      "A value is trying to be set on a copy of a slice from a DataFrame\n",
      "\n",
      "See the caveats in the documentation: https://pandas.pydata.org/pandas-docs/stable/user_guide/indexing.html#returning-a-view-versus-a-copy\n",
      "  data[\"mes\"][data[\"mes\"] == 'Septiembre de 2020'] = \"Sep\"\n",
      "/Users/anadeluna/proyectos-ironhack/Proyecto_WebSraping/src/funtions_cleaning.py:62: SettingWithCopyWarning: \n",
      "A value is trying to be set on a copy of a slice from a DataFrame\n",
      "\n",
      "See the caveats in the documentation: https://pandas.pydata.org/pandas-docs/stable/user_guide/indexing.html#returning-a-view-versus-a-copy\n",
      "  data[\"Comunidad Autónoma\"][data[\"Comunidad Autónoma\"] == 'Asturias; Principado de'] = 'Principado de Asturias'\n",
      "/Users/anadeluna/proyectos-ironhack/Proyecto_WebSraping/src/funtions_cleaning.py:63: SettingWithCopyWarning: \n",
      "A value is trying to be set on a copy of a slice from a DataFrame\n",
      "\n",
      "See the caveats in the documentation: https://pandas.pydata.org/pandas-docs/stable/user_guide/indexing.html#returning-a-view-versus-a-copy\n",
      "  data[\"Comunidad Autónoma\"][data[\"Comunidad Autónoma\"] == 'Balears; Illes'] = 'Islas Baleares'\n",
      "/Users/anadeluna/proyectos-ironhack/Proyecto_WebSraping/src/funtions_cleaning.py:64: SettingWithCopyWarning: \n",
      "A value is trying to be set on a copy of a slice from a DataFrame\n",
      "\n",
      "See the caveats in the documentation: https://pandas.pydata.org/pandas-docs/stable/user_guide/indexing.html#returning-a-view-versus-a-copy\n",
      "  data[\"Comunidad Autónoma\"][data[\"Comunidad Autónoma\"] == 'Castilla - La Mancha'] = 'Castilla-La Mancha'\n",
      "/Users/anadeluna/proyectos-ironhack/Proyecto_WebSraping/src/funtions_cleaning.py:65: SettingWithCopyWarning: \n",
      "A value is trying to be set on a copy of a slice from a DataFrame\n",
      "\n",
      "See the caveats in the documentation: https://pandas.pydata.org/pandas-docs/stable/user_guide/indexing.html#returning-a-view-versus-a-copy\n",
      "  data[\"Comunidad Autónoma\"][data[\"Comunidad Autónoma\"] == 'Comunitat Valenciana'] = 'Comunidad Valenciana'\n",
      "/Users/anadeluna/proyectos-ironhack/Proyecto_WebSraping/src/funtions_cleaning.py:66: SettingWithCopyWarning: \n",
      "A value is trying to be set on a copy of a slice from a DataFrame\n",
      "\n",
      "See the caveats in the documentation: https://pandas.pydata.org/pandas-docs/stable/user_guide/indexing.html#returning-a-view-versus-a-copy\n",
      "  data[\"Comunidad Autónoma\"][data[\"Comunidad Autónoma\"] == 'Madrid; Comunidad de'] = 'Comunidad de Madrid'\n",
      "/Users/anadeluna/proyectos-ironhack/Proyecto_WebSraping/src/funtions_cleaning.py:67: SettingWithCopyWarning: \n",
      "A value is trying to be set on a copy of a slice from a DataFrame\n",
      "\n",
      "See the caveats in the documentation: https://pandas.pydata.org/pandas-docs/stable/user_guide/indexing.html#returning-a-view-versus-a-copy\n",
      "  data[\"Comunidad Autónoma\"][data[\"Comunidad Autónoma\"] == 'Murcia; Región de'] = 'Región de Murcia'\n",
      "/Users/anadeluna/proyectos-ironhack/Proyecto_WebSraping/src/funtions_cleaning.py:68: SettingWithCopyWarning: \n",
      "A value is trying to be set on a copy of a slice from a DataFrame\n",
      "\n",
      "See the caveats in the documentation: https://pandas.pydata.org/pandas-docs/stable/user_guide/indexing.html#returning-a-view-versus-a-copy\n",
      "  data[\"Comunidad Autónoma\"][data[\"Comunidad Autónoma\"] == 'Navarra; Comunidad Foral de'] = 'Navarra'\n",
      "/Users/anadeluna/proyectos-ironhack/Proyecto_WebSraping/src/funtions_cleaning.py:69: SettingWithCopyWarning: \n",
      "A value is trying to be set on a copy of a slice from a DataFrame\n",
      "\n",
      "See the caveats in the documentation: https://pandas.pydata.org/pandas-docs/stable/user_guide/indexing.html#returning-a-view-versus-a-copy\n",
      "  data[\"Comunidad Autónoma\"][data[\"Comunidad Autónoma\"] == 'Rioja; La'] = 'La Rioja'\n"
     ]
    }
   ],
   "source": [
    "fc.clean_dataset()"
   ]
  },
  {
   "cell_type": "markdown",
   "id": "inappropriate-prefix",
   "metadata": {},
   "source": [
    "### 2º Import the DataSet."
   ]
  },
  {
   "cell_type": "code",
   "execution_count": null,
   "id": "strategic-holocaust",
   "metadata": {},
   "outputs": [],
   "source": [
    "#path = \"../data/paro_2020.csv\""
   ]
  },
  {
   "cell_type": "code",
   "execution_count": null,
   "id": "portuguese-tomato",
   "metadata": {},
   "outputs": [],
   "source": [
    "#path = input(\"Introduce the path of the file : \")"
   ]
  },
  {
   "cell_type": "code",
   "execution_count": null,
   "id": "dying-burton",
   "metadata": {},
   "outputs": [],
   "source": [
    "#data = pd.read_csv(path,encoding = \"ISO-8859-1\")"
   ]
  },
  {
   "cell_type": "markdown",
   "id": "current-virtue",
   "metadata": {},
   "source": [
    "### 3º Check the DataSet."
   ]
  },
  {
   "cell_type": "code",
   "execution_count": null,
   "id": "round-gazette",
   "metadata": {},
   "outputs": [],
   "source": [
    "#data.shape"
   ]
  },
  {
   "cell_type": "code",
   "execution_count": null,
   "id": "amateur-penny",
   "metadata": {
    "scrolled": true
   },
   "outputs": [],
   "source": [
    "#data.columns"
   ]
  },
  {
   "cell_type": "code",
   "execution_count": null,
   "id": "democratic-fraud",
   "metadata": {},
   "outputs": [],
   "source": [
    "#data.head(3)"
   ]
  },
  {
   "cell_type": "markdown",
   "id": "neither-hearing",
   "metadata": {},
   "source": [
    "### 4º Remove all the duplicate data."
   ]
  },
  {
   "cell_type": "code",
   "execution_count": null,
   "id": "central-humanitarian",
   "metadata": {},
   "outputs": [],
   "source": [
    "#data = data.drop_duplicates()"
   ]
  },
  {
   "cell_type": "markdown",
   "id": "educated-complexity",
   "metadata": {},
   "source": [
    "### 5º Remove some columns."
   ]
  },
  {
   "cell_type": "code",
   "execution_count": null,
   "id": "convenient-ocean",
   "metadata": {
    "scrolled": false
   },
   "outputs": [],
   "source": [
    "#data = data.drop(columns = [\"Codigo Provincia\",\"Provincia\",\"Codigo Municipio\",\" Municipio\"])"
   ]
  },
  {
   "cell_type": "markdown",
   "id": "unexpected-economics",
   "metadata": {},
   "source": [
    "### 6º Check the columns through which i want to filter."
   ]
  },
  {
   "cell_type": "code",
   "execution_count": null,
   "id": "sustained-payment",
   "metadata": {},
   "outputs": [],
   "source": [
    "#data[\"Comunidad Autónoma\"].unique()"
   ]
  },
  {
   "cell_type": "code",
   "execution_count": null,
   "id": "selected-product",
   "metadata": {
    "scrolled": true
   },
   "outputs": [],
   "source": [
    "#print(\" Total Comunidades Autónomas :\",len(data[\"Comunidad Autónoma\"].unique()))"
   ]
  },
  {
   "cell_type": "code",
   "execution_count": null,
   "id": "arranged-document",
   "metadata": {},
   "outputs": [],
   "source": [
    "#data[\"mes\"].unique()"
   ]
  },
  {
   "cell_type": "code",
   "execution_count": null,
   "id": "verbal-initial",
   "metadata": {},
   "outputs": [],
   "source": [
    "#print(\" Total months :\",len(data[\"mes\"].unique()))"
   ]
  },
  {
   "cell_type": "markdown",
   "id": "adjacent-occasions",
   "metadata": {},
   "source": [
    "### 7 º Group by `mes` and `Comunidad Autónoma`."
   ]
  },
  {
   "cell_type": "code",
   "execution_count": null,
   "id": "humanitarian-blast",
   "metadata": {
    "scrolled": true
   },
   "outputs": [],
   "source": [
    "'''data = data.groupby(['mes','Comunidad Autónoma'])['total Paro Registrado', 'Paro hombre edad < 25',\n",
    "       'Paro hombre edad 25 -45 ', 'Paro hombre edad >=45',\n",
    "       'Paro mujer edad < 25', 'Paro mujer edad 25 -45 ',\n",
    "       'Paro mujer edad >=45', 'Paro Agricultura', 'Paro Industria',\n",
    "       'Paro Construcción', 'Paro Servicios', 'Paro Sin empleo Anterior'].sum()'''\n",
    "#data[:19]"
   ]
  },
  {
   "cell_type": "markdown",
   "id": "super-swaziland",
   "metadata": {},
   "source": [
    "### 8º Reset de index."
   ]
  },
  {
   "cell_type": "code",
   "execution_count": null,
   "id": "experimental-roots",
   "metadata": {},
   "outputs": [],
   "source": [
    "#data = data.reset_index()\n",
    "#data"
   ]
  },
  {
   "cell_type": "markdown",
   "id": "unsigned-poster",
   "metadata": {},
   "source": [
    "### 9º Funtion to eliminate de null values."
   ]
  },
  {
   "cell_type": "code",
   "execution_count": null,
   "id": "sharp-franchise",
   "metadata": {
    "scrolled": true
   },
   "outputs": [],
   "source": [
    "# data has no null values\n",
    "#data.isnull().values.any()"
   ]
  },
  {
   "cell_type": "markdown",
   "id": "homeless-surprise",
   "metadata": {},
   "source": [
    "### 10º Change the names of the `mes`."
   ]
  },
  {
   "cell_type": "code",
   "execution_count": null,
   "id": "sensitive-painting",
   "metadata": {},
   "outputs": [],
   "source": [
    "#data[\"mes\"].unique()"
   ]
  },
  {
   "cell_type": "code",
   "execution_count": null,
   "id": "interim-being",
   "metadata": {},
   "outputs": [],
   "source": [
    "'''data[\"mes\"][data[\"mes\"] == 'Abril de 2020'] = \"Apr\"\n",
    "data[\"mes\"][data[\"mes\"] == 'Agosto de 2020'] = \"Aug\"\n",
    "data[\"mes\"][data[\"mes\"] == 'Enero de 2020'] = \"Jan\"\n",
    "data[\"mes\"][data[\"mes\"] == 'Febrero de 2020'] = \"Feb\"\n",
    "data[\"mes\"][data[\"mes\"] == 'Julio de 2020'] = \"Jul\"\n",
    "data[\"mes\"][data[\"mes\"] == 'Junio de 2020'] = \"Jun\"\n",
    "data[\"mes\"][data[\"mes\"] == 'Marzo de 2020'] = \" Mar\"\n",
    "data[\"mes\"][data[\"mes\"] == 'Mayo de 2020'] = \"May\"\n",
    "data[\"mes\"][data[\"mes\"] == 'Noviembre de 2020'] = \"Nov\"\n",
    "data[\"mes\"][data[\"mes\"] == 'Octubre de 2020'] = \"Oct\"\n",
    "data[\"mes\"][data[\"mes\"] == 'Septiembre de 2020'] = \"Sep\"'''"
   ]
  },
  {
   "cell_type": "markdown",
   "id": "distinguished-cologne",
   "metadata": {},
   "source": [
    "### 11º Change the names of the `Comunidad Autónoma`."
   ]
  },
  {
   "cell_type": "code",
   "execution_count": null,
   "id": "advisory-jordan",
   "metadata": {},
   "outputs": [],
   "source": [
    "#data[\"Comunidad Autónoma\"].unique()"
   ]
  },
  {
   "cell_type": "code",
   "execution_count": null,
   "id": "sensitive-bedroom",
   "metadata": {},
   "outputs": [],
   "source": [
    "'''data[\"Comunidad Autónoma\"][data[\"Comunidad Autónoma\"] == 'Asturias; Principado de'] = 'Principado de Asturias'\n",
    "data[\"Comunidad Autónoma\"][data[\"Comunidad Autónoma\"] == 'Balears; Illes'] = 'Islas Baleares'\n",
    "data[\"Comunidad Autónoma\"][data[\"Comunidad Autónoma\"] == 'Castilla - La Mancha'] = 'Castilla-La Mancha'\n",
    "data[\"Comunidad Autónoma\"][data[\"Comunidad Autónoma\"] == 'Comunitat Valenciana'] = 'Comunidad Valenciana'\n",
    "data[\"Comunidad Autónoma\"][data[\"Comunidad Autónoma\"] == 'Madrid; Comunidad de'] = 'Comunidad de Madrid'\n",
    "data[\"Comunidad Autónoma\"][data[\"Comunidad Autónoma\"] == 'Murcia; Región de'] = 'Región de Murcia'\n",
    "data[\"Comunidad Autónoma\"][data[\"Comunidad Autónoma\"] == 'Navarra; Comunidad Foral de'] = 'Navarra'\n",
    "data[\"Comunidad Autónoma\"][data[\"Comunidad Autónoma\"] == 'Rioja; La'] = 'La Rioja' '''                                        "
   ]
  },
  {
   "cell_type": "code",
   "execution_count": null,
   "id": "christian-algeria",
   "metadata": {},
   "outputs": [],
   "source": [
    "#data[:3]"
   ]
  },
  {
   "cell_type": "markdown",
   "id": "continental-speaker",
   "metadata": {},
   "source": [
    "### 12º Change the name of the columns."
   ]
  },
  {
   "cell_type": "code",
   "execution_count": null,
   "id": "israeli-contributor",
   "metadata": {},
   "outputs": [],
   "source": [
    "#data.columns"
   ]
  },
  {
   "cell_type": "code",
   "execution_count": null,
   "id": "forbidden-farming",
   "metadata": {},
   "outputs": [],
   "source": [
    "#data = data.rename(columns={'mes':'Month','total Paro Registrado':'Total Paro Registrado','Paro hombre edad < 25':'Hombre edad < 25','Paro hombre edad 25 -45 ':'Hombre edad 25-45','Paro hombre edad >=45':'Hombre edad >=45','Paro mujer edad < 25':'Mujer edad < 25','Paro mujer edad 25 -45 ':'Mujer edad 25-45','Paro mujer edad >=45':'Mujer edad >= 45'})"
   ]
  },
  {
   "cell_type": "code",
   "execution_count": null,
   "id": "casual-spotlight",
   "metadata": {
    "scrolled": true
   },
   "outputs": [],
   "source": [
    "#data"
   ]
  },
  {
   "cell_type": "code",
   "execution_count": null,
   "id": "connected-antique",
   "metadata": {},
   "outputs": [],
   "source": [
    "#data.to_csv(\"data_clean.csv\",index=False)"
   ]
  }
 ],
 "metadata": {
  "kernelspec": {
   "display_name": "Python 3",
   "language": "python",
   "name": "python3"
  },
  "language_info": {
   "codemirror_mode": {
    "name": "ipython",
    "version": 3
   },
   "file_extension": ".py",
   "mimetype": "text/x-python",
   "name": "python",
   "nbconvert_exporter": "python",
   "pygments_lexer": "ipython3",
   "version": "3.9.1"
  }
 },
 "nbformat": 4,
 "nbformat_minor": 5
}
